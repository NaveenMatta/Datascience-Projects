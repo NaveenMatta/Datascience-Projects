{
 "cells": [
  {
   "cell_type": "markdown",
   "id": "8c23d22e-8910-44b9-9347-6e56de123af6",
   "metadata": {},
   "source": [
    "# Importing required librarie Pipeline#\n"
   ]
  },
  {
   "cell_type": "code",
   "execution_count": 1,
   "id": "27673e2b-45f0-4303-b7e2-074fa33e04d3",
   "metadata": {},
   "outputs": [
    {
     "name": "stdout",
     "output_type": "stream",
     "text": [
      "Step 1: Required librarie imported successfully\n"
     ]
    }
   ],
   "source": [
    "print(\"Step 1: Required librarie imported successfully\")\n",
    "\n",
    "\n",
    "import time\n",
    "import pandas as pd\n",
    "import numpy as np\n",
    "import warnings\n",
    "warnings.filterwarnings(\"ignore\")\n",
    "\n",
    "from sklearn.model_selection import train_test_split\n",
    "from sklearn.model_selection import cross_val_score\n",
    "\n",
    "from sklearn.feature_selection import SelectKBest\n",
    "from sklearn.feature_selection import chi2\n",
    "\n",
    "from imblearn.over_sampling import SMOTE\n",
    "\n",
    "from imblearn.pipeline import Pipeline as IMBPipeline\n",
    "from sklearn.pipeline import Pipeline\n",
    "\n",
    "from sklearn.compose import ColumnTransformer\n",
    "from sklearn.impute import SimpleImputer\n",
    "\n",
    "from sklearn.preprocessing import OneHotEncoder\n",
    "from sklearn.preprocessing import OrdinalEncoder\n",
    "from sklearn.preprocessing import MinMaxScaler\n",
    "\n",
    "from sklearn.metrics import accuracy_score\n",
    "from sklearn.metrics import roc_auc_score\n",
    "from sklearn.metrics import classification_report\n",
    "from sklearn.metrics import f1_score\n",
    "\n",
    "from sklearn.svm import SVC\n",
    "from sklearn.neighbors import KNeighborsClassifier\n",
    "from sklearn.tree import DecisionTreeClassifier\n",
    "from sklearn.linear_model import RidgeClassifier\n",
    "from sklearn.ensemble import RandomForestClassifier\n",
    "from sklearn.naive_bayes import BernoulliNB\n",
    "\n"
   ]
  },
  {
   "cell_type": "markdown",
   "id": "bc2209f9-1fea-4f02-8e3f-69fd3627a914",
   "metadata": {},
   "source": [
    "#To ignore warning"
   ]
  },
  {
   "cell_type": "code",
   "execution_count": 2,
   "id": "b110b7aa-cb8c-46a7-87be-b108ecd5a4ff",
   "metadata": {},
   "outputs": [],
   "source": [
    "from warnings import simplefilter\n",
    "from sklearn.exceptions import ConvergenceWarning\n",
    "simplefilter(\"ignore\", category=ConvergenceWarning)\n",
    "\n"
   ]
  },
  {
   "cell_type": "markdown",
   "id": "1ae8473d-40a9-4d8c-8f99-bab5cb986aa4",
   "metadata": {},
   "source": [
    "# Loading online_shoppers_intention.csv dataset#"
   ]
  },
  {
   "cell_type": "code",
   "execution_count": 3,
   "id": "87aa8fa0-b266-4b99-a781-e8e64f4fe8da",
   "metadata": {},
   "outputs": [
    {
     "name": "stdout",
     "output_type": "stream",
     "text": [
      "Step 2: Created DataFrame successfully\n"
     ]
    }
   ],
   "source": [
    "print(\"Step 2: Created DataFrame successfully\")\n",
    "\n",
    "df = pd.read_csv(\"online_shoppers_intention.csv\")\n",
    "\n"
   ]
  },
  {
   "cell_type": "markdown",
   "id": "8bdb8e74-726c-448f-8ff3-3f6fe551d2a1",
   "metadata": {},
   "source": [
    "# Feature Engineering#\n"
   ]
  },
  {
   "cell_type": "code",
   "execution_count": 4,
   "id": "74abf3e8-7269-484d-9edb-9a6d410949b6",
   "metadata": {},
   "outputs": [
    {
     "name": "stdout",
     "output_type": "stream",
     "text": [
      "Step 3: Feature Engineering Done successfully on Weekend, Revenue\n"
     ]
    }
   ],
   "source": [
    "print(\"Step 3: Feature Engineering Done successfully on Weekend, Revenue\")\n",
    "\n",
    "\n",
    "df['Weekend'] = df['Weekend'].replace((True, False), (1, 0))\n",
    "df['Revenue'] = df['Revenue'].replace((True, False), (1, 0))\n",
    "\n",
    "condition = df['VisitorType'] == 'Returning_Visitor'\n",
    "\n"
   ]
  },
  {
   "cell_type": "markdown",
   "id": "dac05f0e-4d28-4a1f-b697-daa4d4855efd",
   "metadata": {},
   "source": [
    "# Added Returning_Visitor column#"
   ]
  },
  {
   "cell_type": "code",
   "execution_count": 5,
   "id": "20a96de2-5456-4cfc-8e0c-cd6e82693fd2",
   "metadata": {},
   "outputs": [
    {
     "name": "stdout",
     "output_type": "stream",
     "text": [
      "Step 4: Added Returning_Visitor column successfully\n"
     ]
    }
   ],
   "source": [
    "print(\"Step 4: Added Returning_Visitor column successfully\")\n",
    "\n",
    "df['Returning_Visitor'] = np.where(condition, 1, 0)\n",
    "\n",
    "df = df.drop(columns=['VisitorType'])\n"
   ]
  },
  {
   "cell_type": "markdown",
   "id": "96e96cdb-e54f-47d7-a518-e3e3bef56c2f",
   "metadata": {},
   "source": [
    "# Applying One Hot Encoding on Month column#"
   ]
  },
  {
   "cell_type": "code",
   "execution_count": 6,
   "id": "fbc9e6d3-75ae-46e7-8561-8d8fa10e0075",
   "metadata": {},
   "outputs": [
    {
     "name": "stdout",
     "output_type": "stream",
     "text": [
      "Step 5: Applied one hot encoding successfully on Month column\n"
     ]
    }
   ],
   "source": [
    "print(\"Step 5: Applied one hot encoding successfully on Month column\")\n",
    "\n",
    "\n",
    "ordinal_encoder = OrdinalEncoder()\n",
    "df['Month'] = ordinal_encoder.fit_transform(df[['Month']])\n",
    "\n"
   ]
  },
  {
   "cell_type": "markdown",
   "id": "031893e7-5701-41ff-a0a9-e7a424401540",
   "metadata": {},
   "source": [
    "# Checking correlation on Revenue column#"
   ]
  },
  {
   "cell_type": "code",
   "execution_count": 7,
   "id": "1404b5b0-17f0-43c4-8e75-0a99bc6cae35",
   "metadata": {},
   "outputs": [
    {
     "name": "stdout",
     "output_type": "stream",
     "text": [
      "Step 6: Checking correlation done successfully\n"
     ]
    }
   ],
   "source": [
    "print(\"Step 6: Checking correlation done successfully\")\n",
    "\n",
    "\n",
    "result = df[df.columns[1:]].corr()['Revenue']\t\t\t\t\t\t\n",
    "result1 = result.sort_values(ascending=False)\n"
   ]
  },
  {
   "cell_type": "markdown",
   "id": "e03b531e-6412-4d4f-9874-0fc1a823476e",
   "metadata": {},
   "source": [
    "# Prepairing Features as X and target as y#"
   ]
  },
  {
   "cell_type": "code",
   "execution_count": 8,
   "id": "69d76d0c-d5b1-4a7e-91b9-0843d233f1cb",
   "metadata": {},
   "outputs": [
    {
     "name": "stdout",
     "output_type": "stream",
     "text": [
      "Step 7: Prepairing features as X and target as y done successfully\n"
     ]
    }
   ],
   "source": [
    "print(\"Step 7: Prepairing features as X and target as y done successfully\")\n",
    "\n",
    "\n",
    "X = df.drop(['Revenue'], axis=1)\n",
    "y = df['Revenue']\n"
   ]
  },
  {
   "cell_type": "markdown",
   "id": "68917520-9ca4-4e35-86af-eb8cfbd79464",
   "metadata": {},
   "source": [
    "# Prepairing Train and Test Dataset#"
   ]
  },
  {
   "cell_type": "code",
   "execution_count": 9,
   "id": "e07e68ad-2b6f-42d3-afa8-40f265e11c71",
   "metadata": {},
   "outputs": [
    {
     "name": "stdout",
     "output_type": "stream",
     "text": [
      "Step 8: Splitting data X_train, X_test, y_train & y_test done successfully\n"
     ]
    }
   ],
   "source": [
    "print(\"Step 8: Splitting data X_train, X_test, y_train & y_test done successfully\")\n",
    "\n",
    "\n",
    "X_train, X_test, y_train, y_test = train_test_split(\n",
    "    X, \n",
    "    y, \n",
    "    test_size = 0.3, \n",
    "    random_state = 0\n",
    ")\n",
    "\n"
   ]
  },
  {
   "cell_type": "markdown",
   "id": "4d8087ba-d3b5-4d4d-a9da-d1e41943f144",
   "metadata": {},
   "source": [
    "# Model Pipeline#"
   ]
  },
  {
   "cell_type": "code",
   "execution_count": 10,
   "id": "65052680-2035-4164-a121-ff996561bab0",
   "metadata": {},
   "outputs": [
    {
     "name": "stdout",
     "output_type": "stream",
     "text": [
      "Step 9: model_pipeline fcuntion created done successfully\n"
     ]
    }
   ],
   "source": [
    "print(\"Step 9: model_pipeline fcuntion created done successfully\")\n",
    "\n",
    "def model_pipeline(X, model):\n",
    "    n_c = X.select_dtypes(exclude=['object']).columns.tolist()\n",
    "    c_c = X.select_dtypes(include=['object']).columns.tolist()\n",
    "\n",
    "    numeric_pipeline = Pipeline([\n",
    "        ('imputer', SimpleImputer(strategy='constant')),\n",
    "        ('scaler', MinMaxScaler())\n",
    "    ])\n",
    "\n",
    "    categorical_pipeline = Pipeline([\n",
    "        ('encoder', OneHotEncoder(handle_unknown='ignore'))\n",
    "    ])\n",
    "    \n",
    "    preprocessor = ColumnTransformer([\n",
    "        ('numeric', numeric_pipeline, n_c),\n",
    "        ('categorical', categorical_pipeline, c_c)\n",
    "    ], remainder='passthrough')\n",
    "\n",
    "    final_steps = [\n",
    "        ('preprocessor', preprocessor),\n",
    "        ('smote', SMOTE(random_state=1)),\n",
    "        ('feature_selection', SelectKBest(score_func = chi2, k = 6)),\n",
    "        ('model', model)\n",
    "    ]\n",
    "\n",
    "    return IMBPipeline(steps = final_steps)  # Ensure to use IMBPipeline if using imblearn's Pipeline\n",
    "\n"
   ]
  },
  {
   "cell_type": "markdown",
   "id": "34fd1b25-9f8d-45d8-b2cd-fd123c7512ea",
   "metadata": {},
   "source": [
    "# Model Selection#"
   ]
  },
  {
   "cell_type": "code",
   "execution_count": 11,
   "id": "9392e1da-65a8-44ea-a11a-9f844cb9c105",
   "metadata": {},
   "outputs": [
    {
     "name": "stdout",
     "output_type": "stream",
     "text": [
      "Step 10: select_model fcuntion created done successfully\n"
     ]
    }
   ],
   "source": [
    "print(\"Step 10: select_model fcuntion created done successfully\")\n",
    "\n",
    "\n",
    "def select_model(X, y, pipeline=None):\n",
    "\n",
    "    classifiers = {}\n",
    "    \n",
    "\n",
    "    c_d1 = {\"RandomForestClassifier\": RandomForestClassifier()}\n",
    "    classifiers.update(c_d1)\n",
    "\n",
    "    c_d2 = {\"DecisionTreeClassifier\": DecisionTreeClassifier()}\n",
    "    classifiers.update(c_d2)\n",
    "\n",
    "    c_d3 = {\"KNeighborsClassifier\": KNeighborsClassifier()}\n",
    "    classifiers.update(c_d3)\n",
    "\n",
    "    c_d4 = {\"RidgeClassifier\": RidgeClassifier()}\n",
    "    classifiers.update(c_d4)\n",
    "\n",
    "    c_d5 = {\"BernoulliNB\": BernoulliNB()}\n",
    "    classifiers.update(c_d5)\n",
    "\n",
    "    c_d6 = {\"SVC\": SVC()}\n",
    "    classifiers.update(c_d6)\n",
    "    \n",
    "    \n",
    "   \n",
    "    cols = ['model', 'run_time', 'roc_auc']\n",
    "    df_models = pd.DataFrame(columns = cols)\n",
    "\n",
    "    for key in classifiers:\n",
    "        \n",
    "        start_time = time.time()\n",
    "        \n",
    "        print()\n",
    "        print(\"Step 12: model_pipeline run successfully on\", key)\n",
    "\n",
    "        pipeline = model_pipeline(X, classifiers[key])\n",
    "        \n",
    "        cv = cross_val_score(pipeline, X, y, cv=10, scoring='roc_auc')\n",
    "\n",
    "        row = {'model': key,\n",
    "               'run_time': format(round((time.time() - start_time)/60,2)),\n",
    "               'roc_auc': cv.mean(),\n",
    "        }\n",
    "\n",
    "        df_models = pd.concat([df_models, pd.DataFrame([row])], ignore_index=True)\n",
    "        \n",
    "    df_models = df_models.sort_values(by='roc_auc', ascending=False)\n",
    "\t\n",
    "    return df_models\n"
   ]
  },
  {
   "cell_type": "markdown",
   "id": "77536d59-7663-44a4-9036-3a78a0918c40",
   "metadata": {},
   "source": [
    "# Access Model select_model function#\n"
   ]
  },
  {
   "cell_type": "code",
   "execution_count": 12,
   "id": "677e2c95-5e39-46d6-bff2-396a90593799",
   "metadata": {},
   "outputs": [
    {
     "name": "stdout",
     "output_type": "stream",
     "text": [
      "Step 11: Accessing select_model function done successfully\n",
      "\n",
      "Step 12: model_pipeline run successfully on RandomForestClassifier\n",
      "\n",
      "Step 12: model_pipeline run successfully on DecisionTreeClassifier\n",
      "\n",
      "Step 12: model_pipeline run successfully on KNeighborsClassifier\n",
      "\n",
      "Step 12: model_pipeline run successfully on RidgeClassifier\n",
      "\n",
      "Step 12: model_pipeline run successfully on BernoulliNB\n",
      "\n",
      "Step 12: model_pipeline run successfully on SVC\n"
     ]
    }
   ],
   "source": [
    "print(\"Step 11: Accessing select_model function done successfully\")\n",
    "\n",
    "\n",
    "models = select_model(X_train, y_train)\n",
    "\n"
   ]
  },
  {
   "cell_type": "markdown",
   "id": "4847ea30-7fd2-4622-9730-ae36089e10bb",
   "metadata": {},
   "source": [
    "# Lets see total model with score #"
   ]
  },
  {
   "cell_type": "code",
   "execution_count": 13,
   "id": "96703369-2649-4571-88de-5aaa2b163293",
   "metadata": {},
   "outputs": [
    {
     "name": "stdout",
     "output_type": "stream",
     "text": [
      "Step 13: Accessing select_model function done successfully\n",
      "\n",
      "                    model run_time   roc_auc\n",
      "5                     SVC     1.07  0.889927\n",
      "0  RandomForestClassifier     0.64  0.886405\n",
      "4             BernoulliNB     0.03  0.870663\n",
      "3         RidgeClassifier     0.02  0.856459\n",
      "2    KNeighborsClassifier     0.03  0.840885\n",
      "1  DecisionTreeClassifier     0.05  0.734329\n"
     ]
    }
   ],
   "source": [
    "print(\"Step 13: Accessing select_model function done successfully\")\n",
    "print()\n",
    "\n",
    "print(models)"
   ]
  },
  {
   "cell_type": "markdown",
   "id": "26d07d66-c4bf-4554-9d8a-b7b683f74cd7",
   "metadata": {},
   "source": [
    "# Accessing best model and training #"
   ]
  },
  {
   "cell_type": "code",
   "execution_count": 14,
   "id": "5fe9e9b5-6d70-41bf-af34-1e370b1d7f34",
   "metadata": {},
   "outputs": [
    {
     "name": "stdout",
     "output_type": "stream",
     "text": [
      "\n",
      "Step 14: Accessing select_model function done successfully\n"
     ]
    },
    {
     "data": {
      "text/html": [
       "<style>#sk-container-id-1 {\n",
       "  /* Definition of color scheme common for light and dark mode */\n",
       "  --sklearn-color-text: #000;\n",
       "  --sklearn-color-text-muted: #666;\n",
       "  --sklearn-color-line: gray;\n",
       "  /* Definition of color scheme for unfitted estimators */\n",
       "  --sklearn-color-unfitted-level-0: #fff5e6;\n",
       "  --sklearn-color-unfitted-level-1: #f6e4d2;\n",
       "  --sklearn-color-unfitted-level-2: #ffe0b3;\n",
       "  --sklearn-color-unfitted-level-3: chocolate;\n",
       "  /* Definition of color scheme for fitted estimators */\n",
       "  --sklearn-color-fitted-level-0: #f0f8ff;\n",
       "  --sklearn-color-fitted-level-1: #d4ebff;\n",
       "  --sklearn-color-fitted-level-2: #b3dbfd;\n",
       "  --sklearn-color-fitted-level-3: cornflowerblue;\n",
       "\n",
       "  /* Specific color for light theme */\n",
       "  --sklearn-color-text-on-default-background: var(--sg-text-color, var(--theme-code-foreground, var(--jp-content-font-color1, black)));\n",
       "  --sklearn-color-background: var(--sg-background-color, var(--theme-background, var(--jp-layout-color0, white)));\n",
       "  --sklearn-color-border-box: var(--sg-text-color, var(--theme-code-foreground, var(--jp-content-font-color1, black)));\n",
       "  --sklearn-color-icon: #696969;\n",
       "\n",
       "  @media (prefers-color-scheme: dark) {\n",
       "    /* Redefinition of color scheme for dark theme */\n",
       "    --sklearn-color-text-on-default-background: var(--sg-text-color, var(--theme-code-foreground, var(--jp-content-font-color1, white)));\n",
       "    --sklearn-color-background: var(--sg-background-color, var(--theme-background, var(--jp-layout-color0, #111)));\n",
       "    --sklearn-color-border-box: var(--sg-text-color, var(--theme-code-foreground, var(--jp-content-font-color1, white)));\n",
       "    --sklearn-color-icon: #878787;\n",
       "  }\n",
       "}\n",
       "\n",
       "#sk-container-id-1 {\n",
       "  color: var(--sklearn-color-text);\n",
       "}\n",
       "\n",
       "#sk-container-id-1 pre {\n",
       "  padding: 0;\n",
       "}\n",
       "\n",
       "#sk-container-id-1 input.sk-hidden--visually {\n",
       "  border: 0;\n",
       "  clip: rect(1px 1px 1px 1px);\n",
       "  clip: rect(1px, 1px, 1px, 1px);\n",
       "  height: 1px;\n",
       "  margin: -1px;\n",
       "  overflow: hidden;\n",
       "  padding: 0;\n",
       "  position: absolute;\n",
       "  width: 1px;\n",
       "}\n",
       "\n",
       "#sk-container-id-1 div.sk-dashed-wrapped {\n",
       "  border: 1px dashed var(--sklearn-color-line);\n",
       "  margin: 0 0.4em 0.5em 0.4em;\n",
       "  box-sizing: border-box;\n",
       "  padding-bottom: 0.4em;\n",
       "  background-color: var(--sklearn-color-background);\n",
       "}\n",
       "\n",
       "#sk-container-id-1 div.sk-container {\n",
       "  /* jupyter's `normalize.less` sets `[hidden] { display: none; }`\n",
       "     but bootstrap.min.css set `[hidden] { display: none !important; }`\n",
       "     so we also need the `!important` here to be able to override the\n",
       "     default hidden behavior on the sphinx rendered scikit-learn.org.\n",
       "     See: https://github.com/scikit-learn/scikit-learn/issues/21755 */\n",
       "  display: inline-block !important;\n",
       "  position: relative;\n",
       "}\n",
       "\n",
       "#sk-container-id-1 div.sk-text-repr-fallback {\n",
       "  display: none;\n",
       "}\n",
       "\n",
       "div.sk-parallel-item,\n",
       "div.sk-serial,\n",
       "div.sk-item {\n",
       "  /* draw centered vertical line to link estimators */\n",
       "  background-image: linear-gradient(var(--sklearn-color-text-on-default-background), var(--sklearn-color-text-on-default-background));\n",
       "  background-size: 2px 100%;\n",
       "  background-repeat: no-repeat;\n",
       "  background-position: center center;\n",
       "}\n",
       "\n",
       "/* Parallel-specific style estimator block */\n",
       "\n",
       "#sk-container-id-1 div.sk-parallel-item::after {\n",
       "  content: \"\";\n",
       "  width: 100%;\n",
       "  border-bottom: 2px solid var(--sklearn-color-text-on-default-background);\n",
       "  flex-grow: 1;\n",
       "}\n",
       "\n",
       "#sk-container-id-1 div.sk-parallel {\n",
       "  display: flex;\n",
       "  align-items: stretch;\n",
       "  justify-content: center;\n",
       "  background-color: var(--sklearn-color-background);\n",
       "  position: relative;\n",
       "}\n",
       "\n",
       "#sk-container-id-1 div.sk-parallel-item {\n",
       "  display: flex;\n",
       "  flex-direction: column;\n",
       "}\n",
       "\n",
       "#sk-container-id-1 div.sk-parallel-item:first-child::after {\n",
       "  align-self: flex-end;\n",
       "  width: 50%;\n",
       "}\n",
       "\n",
       "#sk-container-id-1 div.sk-parallel-item:last-child::after {\n",
       "  align-self: flex-start;\n",
       "  width: 50%;\n",
       "}\n",
       "\n",
       "#sk-container-id-1 div.sk-parallel-item:only-child::after {\n",
       "  width: 0;\n",
       "}\n",
       "\n",
       "/* Serial-specific style estimator block */\n",
       "\n",
       "#sk-container-id-1 div.sk-serial {\n",
       "  display: flex;\n",
       "  flex-direction: column;\n",
       "  align-items: center;\n",
       "  background-color: var(--sklearn-color-background);\n",
       "  padding-right: 1em;\n",
       "  padding-left: 1em;\n",
       "}\n",
       "\n",
       "\n",
       "/* Toggleable style: style used for estimator/Pipeline/ColumnTransformer box that is\n",
       "clickable and can be expanded/collapsed.\n",
       "- Pipeline and ColumnTransformer use this feature and define the default style\n",
       "- Estimators will overwrite some part of the style using the `sk-estimator` class\n",
       "*/\n",
       "\n",
       "/* Pipeline and ColumnTransformer style (default) */\n",
       "\n",
       "#sk-container-id-1 div.sk-toggleable {\n",
       "  /* Default theme specific background. It is overwritten whether we have a\n",
       "  specific estimator or a Pipeline/ColumnTransformer */\n",
       "  background-color: var(--sklearn-color-background);\n",
       "}\n",
       "\n",
       "/* Toggleable label */\n",
       "#sk-container-id-1 label.sk-toggleable__label {\n",
       "  cursor: pointer;\n",
       "  display: flex;\n",
       "  width: 100%;\n",
       "  margin-bottom: 0;\n",
       "  padding: 0.5em;\n",
       "  box-sizing: border-box;\n",
       "  text-align: center;\n",
       "  align-items: start;\n",
       "  justify-content: space-between;\n",
       "  gap: 0.5em;\n",
       "}\n",
       "\n",
       "#sk-container-id-1 label.sk-toggleable__label .caption {\n",
       "  font-size: 0.6rem;\n",
       "  font-weight: lighter;\n",
       "  color: var(--sklearn-color-text-muted);\n",
       "}\n",
       "\n",
       "#sk-container-id-1 label.sk-toggleable__label-arrow:before {\n",
       "  /* Arrow on the left of the label */\n",
       "  content: \"▸\";\n",
       "  float: left;\n",
       "  margin-right: 0.25em;\n",
       "  color: var(--sklearn-color-icon);\n",
       "}\n",
       "\n",
       "#sk-container-id-1 label.sk-toggleable__label-arrow:hover:before {\n",
       "  color: var(--sklearn-color-text);\n",
       "}\n",
       "\n",
       "/* Toggleable content - dropdown */\n",
       "\n",
       "#sk-container-id-1 div.sk-toggleable__content {\n",
       "  max-height: 0;\n",
       "  max-width: 0;\n",
       "  overflow: hidden;\n",
       "  text-align: left;\n",
       "  /* unfitted */\n",
       "  background-color: var(--sklearn-color-unfitted-level-0);\n",
       "}\n",
       "\n",
       "#sk-container-id-1 div.sk-toggleable__content.fitted {\n",
       "  /* fitted */\n",
       "  background-color: var(--sklearn-color-fitted-level-0);\n",
       "}\n",
       "\n",
       "#sk-container-id-1 div.sk-toggleable__content pre {\n",
       "  margin: 0.2em;\n",
       "  border-radius: 0.25em;\n",
       "  color: var(--sklearn-color-text);\n",
       "  /* unfitted */\n",
       "  background-color: var(--sklearn-color-unfitted-level-0);\n",
       "}\n",
       "\n",
       "#sk-container-id-1 div.sk-toggleable__content.fitted pre {\n",
       "  /* unfitted */\n",
       "  background-color: var(--sklearn-color-fitted-level-0);\n",
       "}\n",
       "\n",
       "#sk-container-id-1 input.sk-toggleable__control:checked~div.sk-toggleable__content {\n",
       "  /* Expand drop-down */\n",
       "  max-height: 200px;\n",
       "  max-width: 100%;\n",
       "  overflow: auto;\n",
       "}\n",
       "\n",
       "#sk-container-id-1 input.sk-toggleable__control:checked~label.sk-toggleable__label-arrow:before {\n",
       "  content: \"▾\";\n",
       "}\n",
       "\n",
       "/* Pipeline/ColumnTransformer-specific style */\n",
       "\n",
       "#sk-container-id-1 div.sk-label input.sk-toggleable__control:checked~label.sk-toggleable__label {\n",
       "  color: var(--sklearn-color-text);\n",
       "  background-color: var(--sklearn-color-unfitted-level-2);\n",
       "}\n",
       "\n",
       "#sk-container-id-1 div.sk-label.fitted input.sk-toggleable__control:checked~label.sk-toggleable__label {\n",
       "  background-color: var(--sklearn-color-fitted-level-2);\n",
       "}\n",
       "\n",
       "/* Estimator-specific style */\n",
       "\n",
       "/* Colorize estimator box */\n",
       "#sk-container-id-1 div.sk-estimator input.sk-toggleable__control:checked~label.sk-toggleable__label {\n",
       "  /* unfitted */\n",
       "  background-color: var(--sklearn-color-unfitted-level-2);\n",
       "}\n",
       "\n",
       "#sk-container-id-1 div.sk-estimator.fitted input.sk-toggleable__control:checked~label.sk-toggleable__label {\n",
       "  /* fitted */\n",
       "  background-color: var(--sklearn-color-fitted-level-2);\n",
       "}\n",
       "\n",
       "#sk-container-id-1 div.sk-label label.sk-toggleable__label,\n",
       "#sk-container-id-1 div.sk-label label {\n",
       "  /* The background is the default theme color */\n",
       "  color: var(--sklearn-color-text-on-default-background);\n",
       "}\n",
       "\n",
       "/* On hover, darken the color of the background */\n",
       "#sk-container-id-1 div.sk-label:hover label.sk-toggleable__label {\n",
       "  color: var(--sklearn-color-text);\n",
       "  background-color: var(--sklearn-color-unfitted-level-2);\n",
       "}\n",
       "\n",
       "/* Label box, darken color on hover, fitted */\n",
       "#sk-container-id-1 div.sk-label.fitted:hover label.sk-toggleable__label.fitted {\n",
       "  color: var(--sklearn-color-text);\n",
       "  background-color: var(--sklearn-color-fitted-level-2);\n",
       "}\n",
       "\n",
       "/* Estimator label */\n",
       "\n",
       "#sk-container-id-1 div.sk-label label {\n",
       "  font-family: monospace;\n",
       "  font-weight: bold;\n",
       "  display: inline-block;\n",
       "  line-height: 1.2em;\n",
       "}\n",
       "\n",
       "#sk-container-id-1 div.sk-label-container {\n",
       "  text-align: center;\n",
       "}\n",
       "\n",
       "/* Estimator-specific */\n",
       "#sk-container-id-1 div.sk-estimator {\n",
       "  font-family: monospace;\n",
       "  border: 1px dotted var(--sklearn-color-border-box);\n",
       "  border-radius: 0.25em;\n",
       "  box-sizing: border-box;\n",
       "  margin-bottom: 0.5em;\n",
       "  /* unfitted */\n",
       "  background-color: var(--sklearn-color-unfitted-level-0);\n",
       "}\n",
       "\n",
       "#sk-container-id-1 div.sk-estimator.fitted {\n",
       "  /* fitted */\n",
       "  background-color: var(--sklearn-color-fitted-level-0);\n",
       "}\n",
       "\n",
       "/* on hover */\n",
       "#sk-container-id-1 div.sk-estimator:hover {\n",
       "  /* unfitted */\n",
       "  background-color: var(--sklearn-color-unfitted-level-2);\n",
       "}\n",
       "\n",
       "#sk-container-id-1 div.sk-estimator.fitted:hover {\n",
       "  /* fitted */\n",
       "  background-color: var(--sklearn-color-fitted-level-2);\n",
       "}\n",
       "\n",
       "/* Specification for estimator info (e.g. \"i\" and \"?\") */\n",
       "\n",
       "/* Common style for \"i\" and \"?\" */\n",
       "\n",
       ".sk-estimator-doc-link,\n",
       "a:link.sk-estimator-doc-link,\n",
       "a:visited.sk-estimator-doc-link {\n",
       "  float: right;\n",
       "  font-size: smaller;\n",
       "  line-height: 1em;\n",
       "  font-family: monospace;\n",
       "  background-color: var(--sklearn-color-background);\n",
       "  border-radius: 1em;\n",
       "  height: 1em;\n",
       "  width: 1em;\n",
       "  text-decoration: none !important;\n",
       "  margin-left: 0.5em;\n",
       "  text-align: center;\n",
       "  /* unfitted */\n",
       "  border: var(--sklearn-color-unfitted-level-1) 1pt solid;\n",
       "  color: var(--sklearn-color-unfitted-level-1);\n",
       "}\n",
       "\n",
       ".sk-estimator-doc-link.fitted,\n",
       "a:link.sk-estimator-doc-link.fitted,\n",
       "a:visited.sk-estimator-doc-link.fitted {\n",
       "  /* fitted */\n",
       "  border: var(--sklearn-color-fitted-level-1) 1pt solid;\n",
       "  color: var(--sklearn-color-fitted-level-1);\n",
       "}\n",
       "\n",
       "/* On hover */\n",
       "div.sk-estimator:hover .sk-estimator-doc-link:hover,\n",
       ".sk-estimator-doc-link:hover,\n",
       "div.sk-label-container:hover .sk-estimator-doc-link:hover,\n",
       ".sk-estimator-doc-link:hover {\n",
       "  /* unfitted */\n",
       "  background-color: var(--sklearn-color-unfitted-level-3);\n",
       "  color: var(--sklearn-color-background);\n",
       "  text-decoration: none;\n",
       "}\n",
       "\n",
       "div.sk-estimator.fitted:hover .sk-estimator-doc-link.fitted:hover,\n",
       ".sk-estimator-doc-link.fitted:hover,\n",
       "div.sk-label-container:hover .sk-estimator-doc-link.fitted:hover,\n",
       ".sk-estimator-doc-link.fitted:hover {\n",
       "  /* fitted */\n",
       "  background-color: var(--sklearn-color-fitted-level-3);\n",
       "  color: var(--sklearn-color-background);\n",
       "  text-decoration: none;\n",
       "}\n",
       "\n",
       "/* Span, style for the box shown on hovering the info icon */\n",
       ".sk-estimator-doc-link span {\n",
       "  display: none;\n",
       "  z-index: 9999;\n",
       "  position: relative;\n",
       "  font-weight: normal;\n",
       "  right: .2ex;\n",
       "  padding: .5ex;\n",
       "  margin: .5ex;\n",
       "  width: min-content;\n",
       "  min-width: 20ex;\n",
       "  max-width: 50ex;\n",
       "  color: var(--sklearn-color-text);\n",
       "  box-shadow: 2pt 2pt 4pt #999;\n",
       "  /* unfitted */\n",
       "  background: var(--sklearn-color-unfitted-level-0);\n",
       "  border: .5pt solid var(--sklearn-color-unfitted-level-3);\n",
       "}\n",
       "\n",
       ".sk-estimator-doc-link.fitted span {\n",
       "  /* fitted */\n",
       "  background: var(--sklearn-color-fitted-level-0);\n",
       "  border: var(--sklearn-color-fitted-level-3);\n",
       "}\n",
       "\n",
       ".sk-estimator-doc-link:hover span {\n",
       "  display: block;\n",
       "}\n",
       "\n",
       "/* \"?\"-specific style due to the `<a>` HTML tag */\n",
       "\n",
       "#sk-container-id-1 a.estimator_doc_link {\n",
       "  float: right;\n",
       "  font-size: 1rem;\n",
       "  line-height: 1em;\n",
       "  font-family: monospace;\n",
       "  background-color: var(--sklearn-color-background);\n",
       "  border-radius: 1rem;\n",
       "  height: 1rem;\n",
       "  width: 1rem;\n",
       "  text-decoration: none;\n",
       "  /* unfitted */\n",
       "  color: var(--sklearn-color-unfitted-level-1);\n",
       "  border: var(--sklearn-color-unfitted-level-1) 1pt solid;\n",
       "}\n",
       "\n",
       "#sk-container-id-1 a.estimator_doc_link.fitted {\n",
       "  /* fitted */\n",
       "  border: var(--sklearn-color-fitted-level-1) 1pt solid;\n",
       "  color: var(--sklearn-color-fitted-level-1);\n",
       "}\n",
       "\n",
       "/* On hover */\n",
       "#sk-container-id-1 a.estimator_doc_link:hover {\n",
       "  /* unfitted */\n",
       "  background-color: var(--sklearn-color-unfitted-level-3);\n",
       "  color: var(--sklearn-color-background);\n",
       "  text-decoration: none;\n",
       "}\n",
       "\n",
       "#sk-container-id-1 a.estimator_doc_link.fitted:hover {\n",
       "  /* fitted */\n",
       "  background-color: var(--sklearn-color-fitted-level-3);\n",
       "}\n",
       "</style><div id=\"sk-container-id-1\" class=\"sk-top-container\"><div class=\"sk-text-repr-fallback\"><pre>Pipeline(steps=[(&#x27;preprocessor&#x27;,\n",
       "                 ColumnTransformer(remainder=&#x27;passthrough&#x27;,\n",
       "                                   transformers=[(&#x27;numeric&#x27;,\n",
       "                                                  Pipeline(steps=[(&#x27;imputer&#x27;,\n",
       "                                                                   SimpleImputer(strategy=&#x27;constant&#x27;)),\n",
       "                                                                  (&#x27;scaler&#x27;,\n",
       "                                                                   MinMaxScaler())]),\n",
       "                                                  [&#x27;Administrative&#x27;,\n",
       "                                                   &#x27;Administrative_Duration&#x27;,\n",
       "                                                   &#x27;Informational&#x27;,\n",
       "                                                   &#x27;Informational_Duration&#x27;,\n",
       "                                                   &#x27;ProductRelated&#x27;,\n",
       "                                                   &#x27;ProductRelated_Duration&#x27;,\n",
       "                                                   &#x27;BounceRates&#x27;, &#x27;ExitRates&#x27;,\n",
       "                                                   &#x27;PageValues&#x27;, &#x27;SpecialDay&#x27;,\n",
       "                                                   &#x27;Month&#x27;, &#x27;OperatingSystems&#x27;,\n",
       "                                                   &#x27;Browser&#x27;, &#x27;Region&#x27;,\n",
       "                                                   &#x27;TrafficType&#x27;, &#x27;Weekend&#x27;,\n",
       "                                                   &#x27;Returning_Visitor&#x27;]),\n",
       "                                                 (&#x27;categorical&#x27;,\n",
       "                                                  Pipeline(steps=[(&#x27;encoder&#x27;,\n",
       "                                                                   OneHotEncoder(handle_unknown=&#x27;ignore&#x27;))]),\n",
       "                                                  [])])),\n",
       "                (&#x27;smote&#x27;, SMOTE(random_state=1)),\n",
       "                (&#x27;feature_selection&#x27;,\n",
       "                 SelectKBest(k=6,\n",
       "                             score_func=&lt;function chi2 at 0x0000021C70E78040&gt;)),\n",
       "                (&#x27;model&#x27;, SVC())])</pre><b>In a Jupyter environment, please rerun this cell to show the HTML representation or trust the notebook. <br />On GitHub, the HTML representation is unable to render, please try loading this page with nbviewer.org.</b></div><div class=\"sk-container\" hidden><div class=\"sk-item sk-dashed-wrapped\"><div class=\"sk-label-container\"><div class=\"sk-label fitted sk-toggleable\"><input class=\"sk-toggleable__control sk-hidden--visually\" id=\"sk-estimator-id-1\" type=\"checkbox\" ><label for=\"sk-estimator-id-1\" class=\"sk-toggleable__label fitted sk-toggleable__label-arrow\"><div><div>Pipeline</div></div><div><span class=\"sk-estimator-doc-link fitted\">i<span>Fitted</span></span></div></label><div class=\"sk-toggleable__content fitted\"><pre>Pipeline(steps=[(&#x27;preprocessor&#x27;,\n",
       "                 ColumnTransformer(remainder=&#x27;passthrough&#x27;,\n",
       "                                   transformers=[(&#x27;numeric&#x27;,\n",
       "                                                  Pipeline(steps=[(&#x27;imputer&#x27;,\n",
       "                                                                   SimpleImputer(strategy=&#x27;constant&#x27;)),\n",
       "                                                                  (&#x27;scaler&#x27;,\n",
       "                                                                   MinMaxScaler())]),\n",
       "                                                  [&#x27;Administrative&#x27;,\n",
       "                                                   &#x27;Administrative_Duration&#x27;,\n",
       "                                                   &#x27;Informational&#x27;,\n",
       "                                                   &#x27;Informational_Duration&#x27;,\n",
       "                                                   &#x27;ProductRelated&#x27;,\n",
       "                                                   &#x27;ProductRelated_Duration&#x27;,\n",
       "                                                   &#x27;BounceRates&#x27;, &#x27;ExitRates&#x27;,\n",
       "                                                   &#x27;PageValues&#x27;, &#x27;SpecialDay&#x27;,\n",
       "                                                   &#x27;Month&#x27;, &#x27;OperatingSystems&#x27;,\n",
       "                                                   &#x27;Browser&#x27;, &#x27;Region&#x27;,\n",
       "                                                   &#x27;TrafficType&#x27;, &#x27;Weekend&#x27;,\n",
       "                                                   &#x27;Returning_Visitor&#x27;]),\n",
       "                                                 (&#x27;categorical&#x27;,\n",
       "                                                  Pipeline(steps=[(&#x27;encoder&#x27;,\n",
       "                                                                   OneHotEncoder(handle_unknown=&#x27;ignore&#x27;))]),\n",
       "                                                  [])])),\n",
       "                (&#x27;smote&#x27;, SMOTE(random_state=1)),\n",
       "                (&#x27;feature_selection&#x27;,\n",
       "                 SelectKBest(k=6,\n",
       "                             score_func=&lt;function chi2 at 0x0000021C70E78040&gt;)),\n",
       "                (&#x27;model&#x27;, SVC())])</pre></div> </div></div><div class=\"sk-serial\"><div class=\"sk-item sk-dashed-wrapped\"><div class=\"sk-label-container\"><div class=\"sk-label fitted sk-toggleable\"><input class=\"sk-toggleable__control sk-hidden--visually\" id=\"sk-estimator-id-2\" type=\"checkbox\" ><label for=\"sk-estimator-id-2\" class=\"sk-toggleable__label fitted sk-toggleable__label-arrow\"><div><div>preprocessor: ColumnTransformer</div></div><div><a class=\"sk-estimator-doc-link fitted\" rel=\"noreferrer\" target=\"_blank\" href=\"https://scikit-learn.org/1.6/modules/generated/sklearn.compose.ColumnTransformer.html\">?<span>Documentation for preprocessor: ColumnTransformer</span></a></div></label><div class=\"sk-toggleable__content fitted\"><pre>ColumnTransformer(remainder=&#x27;passthrough&#x27;,\n",
       "                  transformers=[(&#x27;numeric&#x27;,\n",
       "                                 Pipeline(steps=[(&#x27;imputer&#x27;,\n",
       "                                                  SimpleImputer(strategy=&#x27;constant&#x27;)),\n",
       "                                                 (&#x27;scaler&#x27;, MinMaxScaler())]),\n",
       "                                 [&#x27;Administrative&#x27;, &#x27;Administrative_Duration&#x27;,\n",
       "                                  &#x27;Informational&#x27;, &#x27;Informational_Duration&#x27;,\n",
       "                                  &#x27;ProductRelated&#x27;, &#x27;ProductRelated_Duration&#x27;,\n",
       "                                  &#x27;BounceRates&#x27;, &#x27;ExitRates&#x27;, &#x27;PageValues&#x27;,\n",
       "                                  &#x27;SpecialDay&#x27;, &#x27;Month&#x27;, &#x27;OperatingSystems&#x27;,\n",
       "                                  &#x27;Browser&#x27;, &#x27;Region&#x27;, &#x27;TrafficType&#x27;, &#x27;Weekend&#x27;,\n",
       "                                  &#x27;Returning_Visitor&#x27;]),\n",
       "                                (&#x27;categorical&#x27;,\n",
       "                                 Pipeline(steps=[(&#x27;encoder&#x27;,\n",
       "                                                  OneHotEncoder(handle_unknown=&#x27;ignore&#x27;))]),\n",
       "                                 [])])</pre></div> </div></div><div class=\"sk-parallel\"><div class=\"sk-parallel-item\"><div class=\"sk-item\"><div class=\"sk-label-container\"><div class=\"sk-label fitted sk-toggleable\"><input class=\"sk-toggleable__control sk-hidden--visually\" id=\"sk-estimator-id-3\" type=\"checkbox\" ><label for=\"sk-estimator-id-3\" class=\"sk-toggleable__label fitted sk-toggleable__label-arrow\"><div><div>numeric</div></div></label><div class=\"sk-toggleable__content fitted\"><pre>[&#x27;Administrative&#x27;, &#x27;Administrative_Duration&#x27;, &#x27;Informational&#x27;, &#x27;Informational_Duration&#x27;, &#x27;ProductRelated&#x27;, &#x27;ProductRelated_Duration&#x27;, &#x27;BounceRates&#x27;, &#x27;ExitRates&#x27;, &#x27;PageValues&#x27;, &#x27;SpecialDay&#x27;, &#x27;Month&#x27;, &#x27;OperatingSystems&#x27;, &#x27;Browser&#x27;, &#x27;Region&#x27;, &#x27;TrafficType&#x27;, &#x27;Weekend&#x27;, &#x27;Returning_Visitor&#x27;]</pre></div> </div></div><div class=\"sk-serial\"><div class=\"sk-item\"><div class=\"sk-serial\"><div class=\"sk-item\"><div class=\"sk-estimator fitted sk-toggleable\"><input class=\"sk-toggleable__control sk-hidden--visually\" id=\"sk-estimator-id-4\" type=\"checkbox\" ><label for=\"sk-estimator-id-4\" class=\"sk-toggleable__label fitted sk-toggleable__label-arrow\"><div><div>SimpleImputer</div></div><div><a class=\"sk-estimator-doc-link fitted\" rel=\"noreferrer\" target=\"_blank\" href=\"https://scikit-learn.org/1.6/modules/generated/sklearn.impute.SimpleImputer.html\">?<span>Documentation for SimpleImputer</span></a></div></label><div class=\"sk-toggleable__content fitted\"><pre>SimpleImputer(strategy=&#x27;constant&#x27;)</pre></div> </div></div><div class=\"sk-item\"><div class=\"sk-estimator fitted sk-toggleable\"><input class=\"sk-toggleable__control sk-hidden--visually\" id=\"sk-estimator-id-5\" type=\"checkbox\" ><label for=\"sk-estimator-id-5\" class=\"sk-toggleable__label fitted sk-toggleable__label-arrow\"><div><div>MinMaxScaler</div></div><div><a class=\"sk-estimator-doc-link fitted\" rel=\"noreferrer\" target=\"_blank\" href=\"https://scikit-learn.org/1.6/modules/generated/sklearn.preprocessing.MinMaxScaler.html\">?<span>Documentation for MinMaxScaler</span></a></div></label><div class=\"sk-toggleable__content fitted\"><pre>MinMaxScaler()</pre></div> </div></div></div></div></div></div></div><div class=\"sk-parallel-item\"><div class=\"sk-item\"><div class=\"sk-label-container\"><div class=\"sk-label fitted sk-toggleable\"><input class=\"sk-toggleable__control sk-hidden--visually\" id=\"sk-estimator-id-6\" type=\"checkbox\" ><label for=\"sk-estimator-id-6\" class=\"sk-toggleable__label fitted sk-toggleable__label-arrow\"><div><div>categorical</div></div></label><div class=\"sk-toggleable__content fitted\"><pre>[]</pre></div> </div></div><div class=\"sk-serial\"><div class=\"sk-item\"><div class=\"sk-serial\"><div class=\"sk-item\"><div class=\"sk-estimator fitted sk-toggleable\"><input class=\"sk-toggleable__control sk-hidden--visually\" id=\"sk-estimator-id-7\" type=\"checkbox\" ><label for=\"sk-estimator-id-7\" class=\"sk-toggleable__label fitted sk-toggleable__label-arrow\"><div><div>OneHotEncoder</div></div><div><a class=\"sk-estimator-doc-link fitted\" rel=\"noreferrer\" target=\"_blank\" href=\"https://scikit-learn.org/1.6/modules/generated/sklearn.preprocessing.OneHotEncoder.html\">?<span>Documentation for OneHotEncoder</span></a></div></label><div class=\"sk-toggleable__content fitted\"><pre>OneHotEncoder(handle_unknown=&#x27;ignore&#x27;)</pre></div> </div></div></div></div></div></div></div><div class=\"sk-parallel-item\"><div class=\"sk-item\"><div class=\"sk-label-container\"><div class=\"sk-label fitted sk-toggleable\"><input class=\"sk-toggleable__control sk-hidden--visually\" id=\"sk-estimator-id-8\" type=\"checkbox\" ><label for=\"sk-estimator-id-8\" class=\"sk-toggleable__label fitted sk-toggleable__label-arrow\"><div><div>remainder</div></div></label><div class=\"sk-toggleable__content fitted\"><pre>[]</pre></div> </div></div><div class=\"sk-serial\"><div class=\"sk-item\"><div class=\"sk-estimator fitted sk-toggleable\"><input class=\"sk-toggleable__control sk-hidden--visually\" id=\"sk-estimator-id-9\" type=\"checkbox\" ><label for=\"sk-estimator-id-9\" class=\"sk-toggleable__label fitted sk-toggleable__label-arrow\"><div><div>passthrough</div></div></label><div class=\"sk-toggleable__content fitted\"><pre>passthrough</pre></div> </div></div></div></div></div></div></div><div class=\"sk-item\"><div class=\"sk-estimator fitted sk-toggleable\"><input class=\"sk-toggleable__control sk-hidden--visually\" id=\"sk-estimator-id-10\" type=\"checkbox\" ><label for=\"sk-estimator-id-10\" class=\"sk-toggleable__label fitted sk-toggleable__label-arrow\"><div><div>SMOTE</div></div></label><div class=\"sk-toggleable__content fitted\"><pre>SMOTE(random_state=1)</pre></div> </div></div><div class=\"sk-item\"><div class=\"sk-estimator fitted sk-toggleable\"><input class=\"sk-toggleable__control sk-hidden--visually\" id=\"sk-estimator-id-11\" type=\"checkbox\" ><label for=\"sk-estimator-id-11\" class=\"sk-toggleable__label fitted sk-toggleable__label-arrow\"><div><div>SelectKBest</div></div><div><a class=\"sk-estimator-doc-link fitted\" rel=\"noreferrer\" target=\"_blank\" href=\"https://scikit-learn.org/1.6/modules/generated/sklearn.feature_selection.SelectKBest.html\">?<span>Documentation for SelectKBest</span></a></div></label><div class=\"sk-toggleable__content fitted\"><pre>SelectKBest(k=6, score_func=&lt;function chi2 at 0x0000021C70E78040&gt;)</pre></div> </div></div><div class=\"sk-item\"><div class=\"sk-estimator fitted sk-toggleable\"><input class=\"sk-toggleable__control sk-hidden--visually\" id=\"sk-estimator-id-12\" type=\"checkbox\" ><label for=\"sk-estimator-id-12\" class=\"sk-toggleable__label fitted sk-toggleable__label-arrow\"><div><div>SVC</div></div><div><a class=\"sk-estimator-doc-link fitted\" rel=\"noreferrer\" target=\"_blank\" href=\"https://scikit-learn.org/1.6/modules/generated/sklearn.svm.SVC.html\">?<span>Documentation for SVC</span></a></div></label><div class=\"sk-toggleable__content fitted\"><pre>SVC()</pre></div> </div></div></div></div></div></div>"
      ],
      "text/plain": [
       "Pipeline(steps=[('preprocessor',\n",
       "                 ColumnTransformer(remainder='passthrough',\n",
       "                                   transformers=[('numeric',\n",
       "                                                  Pipeline(steps=[('imputer',\n",
       "                                                                   SimpleImputer(strategy='constant')),\n",
       "                                                                  ('scaler',\n",
       "                                                                   MinMaxScaler())]),\n",
       "                                                  ['Administrative',\n",
       "                                                   'Administrative_Duration',\n",
       "                                                   'Informational',\n",
       "                                                   'Informational_Duration',\n",
       "                                                   'ProductRelated',\n",
       "                                                   'ProductRelated_Duration',\n",
       "                                                   'BounceRates', 'ExitRates',\n",
       "                                                   'PageValues', 'SpecialDay',\n",
       "                                                   'Month', 'OperatingSystems',\n",
       "                                                   'Browser', 'Region',\n",
       "                                                   'TrafficType', 'Weekend',\n",
       "                                                   'Returning_Visitor']),\n",
       "                                                 ('categorical',\n",
       "                                                  Pipeline(steps=[('encoder',\n",
       "                                                                   OneHotEncoder(handle_unknown='ignore'))]),\n",
       "                                                  [])])),\n",
       "                ('smote', SMOTE(random_state=1)),\n",
       "                ('feature_selection',\n",
       "                 SelectKBest(k=6,\n",
       "                             score_func=<function chi2 at 0x0000021C70E78040>)),\n",
       "                ('model', SVC())])"
      ]
     },
     "execution_count": 14,
     "metadata": {},
     "output_type": "execute_result"
    }
   ],
   "source": [
    "print()\n",
    "print(\"Step 14: Accessing select_model function done successfully\")\n",
    "\n",
    "selected_model = SVC()\n",
    "bundled_pipeline = model_pipeline(X_train, selected_model)\n",
    "bundled_pipeline.fit(X_train, y_train)\n",
    "\n"
   ]
  },
  {
   "cell_type": "markdown",
   "id": "7369cceb-8dab-45a6-9f74-2bc42655553c",
   "metadata": {},
   "source": [
    "# Accessing best model and training #"
   ]
  },
  {
   "cell_type": "code",
   "execution_count": 15,
   "id": "a3940f0a-8013-4160-966d-9f53cdaf1c20",
   "metadata": {},
   "outputs": [
    {
     "name": "stdout",
     "output_type": "stream",
     "text": [
      "Step 15: Results predicted successfully\n"
     ]
    }
   ],
   "source": [
    "print(\"Step 15: Results predicted successfully\")\n",
    "\n",
    "y_pred = bundled_pipeline.predict(X_test)\n",
    "\n"
   ]
  },
  {
   "cell_type": "markdown",
   "id": "17d22584-6a7c-44d4-b11a-7efd3615c17a",
   "metadata": {},
   "source": [
    "# ROC and AOC score #"
   ]
  },
  {
   "cell_type": "code",
   "execution_count": 16,
   "id": "d1dded0f-5b79-4236-86c6-a52d1c8990fb",
   "metadata": {},
   "outputs": [
    {
     "name": "stdout",
     "output_type": "stream",
     "text": [
      "Step 16: ROC and AOC scores\n",
      "\n",
      "ROC/AUC: 0.7872136596906621\n",
      "Accuracy: 0.8775344687753447\n",
      "F1 score: 0.6413301662707839\n",
      "\n"
     ]
    }
   ],
   "source": [
    "\n",
    "print(\"Step 16: ROC and AOC scores\")\n",
    "\n",
    "roc_auc = roc_auc_score(y_test, y_pred)\n",
    "accuracy = accuracy_score(y_test, y_pred)\n",
    "f1_score = f1_score(y_test, y_pred)\n",
    "\n",
    "print()\n",
    "print('ROC/AUC:', roc_auc)\n",
    "print('Accuracy:', accuracy)\n",
    "print('F1 score:', f1_score)\n",
    "print()\n",
    "\n",
    "\n",
    "\n"
   ]
  },
  {
   "cell_type": "code",
   "execution_count": null,
   "id": "ca042b2c-8060-4fc9-82a0-181941ac4523",
   "metadata": {},
   "outputs": [],
   "source": []
  }
 ],
 "metadata": {
  "kernelspec": {
   "display_name": "Python 3 (ipykernel)",
   "language": "python",
   "name": "python3"
  },
  "language_info": {
   "codemirror_mode": {
    "name": "ipython",
    "version": 3
   },
   "file_extension": ".py",
   "mimetype": "text/x-python",
   "name": "python",
   "nbconvert_exporter": "python",
   "pygments_lexer": "ipython3",
   "version": "3.13.1"
  }
 },
 "nbformat": 4,
 "nbformat_minor": 5
}
