{
 "cells": [
  {
   "cell_type": "markdown",
   "id": "eb0d7f76-b375-4710-95fe-b6d7df0b5c98",
   "metadata": {},
   "source": [
    "# Importing required libraries"
   ]
  },
  {
   "cell_type": "code",
   "execution_count": 1,
   "id": "40c792ac-543e-4af5-9a11-3e62c303dc6f",
   "metadata": {},
   "outputs": [],
   "source": [
    "import numpy as np\n",
    "import pandas as pd\n",
    "\n",
    "import seaborn as sns\n",
    "import matplotlib.pyplot as plt\n",
    "\n",
    "from sklearn.preprocessing import RobustScaler\n",
    "from sklearn.preprocessing import LabelEncoder\n",
    "\n",
    "from catboost import CatBoostClassifier\n",
    "from lightgbm import LGBMClassifier\n",
    "from sklearn.ensemble import GradientBoostingClassifier, RandomForestClassifier\n",
    "from sklearn.tree import DecisionTreeClassifier\n",
    "from xgboost import XGBClassifier\n",
    "from sklearn.linear_model import LogisticRegression\n",
    "from sklearn.linear_model import LogisticRegression\n",
    "from sklearn.svm import SVC\n",
    "from sklearn.neighbors import KNeighborsClassifier\n",
    "\n",
    "from sklearn.metrics import accuracy_score, roc_auc_score, confusion_matrix, classification_report, roc_curve\n",
    "from sklearn.model_selection import train_test_split, cross_validate, GridSearchCV\n",
    "from sklearn.metrics import mean_absolute_error, mean_squared_error\n"
   ]
  },
  {
   "cell_type": "markdown",
   "id": "36d1e943-b5e2-45fa-b5fa-c76a3a759352",
   "metadata": {},
   "source": [
    "# Filter Warnings"
   ]
  },
  {
   "cell_type": "code",
   "execution_count": 2,
   "id": "ab68a680-a78d-4a0c-8ef5-2ac95e915786",
   "metadata": {},
   "outputs": [],
   "source": [
    "import warnings\n",
    "warnings.filterwarnings(\"ignore\")"
   ]
  },
  {
   "cell_type": "code",
   "execution_count": 3,
   "id": "d86f9d4d-bd03-4997-a9ef-d9aab3fc80ee",
   "metadata": {},
   "outputs": [],
   "source": [
    "pd.set_option('display.max_columns', None)\n",
    "pd.set_option('display.float_format', lambda x: '%.3f' % x)\n",
    "pd.set_option('display.width', 500)"
   ]
  },
  {
   "cell_type": "markdown",
   "id": "10d76175-4dfc-42ca-9771-c8ca2bbd1929",
   "metadata": {},
   "source": [
    "# Loading the  Diabetes Dataset"
   ]
  },
  {
   "cell_type": "code",
   "execution_count": 4,
   "id": "cef67b76-f9fd-40ca-9e58-6915fe33a198",
   "metadata": {},
   "outputs": [],
   "source": [
    "df = pd.read_csv(\"diabetes.csv\")"
   ]
  },
  {
   "cell_type": "markdown",
   "id": "5349177e-ab75-49a5-9592-948e3ceb0d1d",
   "metadata": {},
   "source": [
    "# Print the first five rows of the dataframe"
   ]
  },
  {
   "cell_type": "code",
   "execution_count": 5,
   "id": "92776493-e8b6-4aec-9af9-1c91d3043b03",
   "metadata": {},
   "outputs": [
    {
     "data": {
      "text/html": [
       "<div>\n",
       "<style scoped>\n",
       "    .dataframe tbody tr th:only-of-type {\n",
       "        vertical-align: middle;\n",
       "    }\n",
       "\n",
       "    .dataframe tbody tr th {\n",
       "        vertical-align: top;\n",
       "    }\n",
       "\n",
       "    .dataframe thead th {\n",
       "        text-align: right;\n",
       "    }\n",
       "</style>\n",
       "<table border=\"1\" class=\"dataframe\">\n",
       "  <thead>\n",
       "    <tr style=\"text-align: right;\">\n",
       "      <th></th>\n",
       "      <th>Pregnancies</th>\n",
       "      <th>Glucose</th>\n",
       "      <th>BloodPressure</th>\n",
       "      <th>SkinThickness</th>\n",
       "      <th>Insulin</th>\n",
       "      <th>BMI</th>\n",
       "      <th>DiabetesPedigreeFunction</th>\n",
       "      <th>Age</th>\n",
       "      <th>Outcome</th>\n",
       "    </tr>\n",
       "  </thead>\n",
       "  <tbody>\n",
       "    <tr>\n",
       "      <th>0</th>\n",
       "      <td>6</td>\n",
       "      <td>148</td>\n",
       "      <td>72</td>\n",
       "      <td>35</td>\n",
       "      <td>0</td>\n",
       "      <td>33.600</td>\n",
       "      <td>0.627</td>\n",
       "      <td>50</td>\n",
       "      <td>1</td>\n",
       "    </tr>\n",
       "    <tr>\n",
       "      <th>1</th>\n",
       "      <td>1</td>\n",
       "      <td>85</td>\n",
       "      <td>66</td>\n",
       "      <td>29</td>\n",
       "      <td>0</td>\n",
       "      <td>26.600</td>\n",
       "      <td>0.351</td>\n",
       "      <td>31</td>\n",
       "      <td>0</td>\n",
       "    </tr>\n",
       "    <tr>\n",
       "      <th>2</th>\n",
       "      <td>8</td>\n",
       "      <td>183</td>\n",
       "      <td>64</td>\n",
       "      <td>0</td>\n",
       "      <td>0</td>\n",
       "      <td>23.300</td>\n",
       "      <td>0.672</td>\n",
       "      <td>32</td>\n",
       "      <td>1</td>\n",
       "    </tr>\n",
       "    <tr>\n",
       "      <th>3</th>\n",
       "      <td>1</td>\n",
       "      <td>89</td>\n",
       "      <td>66</td>\n",
       "      <td>23</td>\n",
       "      <td>94</td>\n",
       "      <td>28.100</td>\n",
       "      <td>0.167</td>\n",
       "      <td>21</td>\n",
       "      <td>0</td>\n",
       "    </tr>\n",
       "    <tr>\n",
       "      <th>4</th>\n",
       "      <td>0</td>\n",
       "      <td>137</td>\n",
       "      <td>40</td>\n",
       "      <td>35</td>\n",
       "      <td>168</td>\n",
       "      <td>43.100</td>\n",
       "      <td>2.288</td>\n",
       "      <td>33</td>\n",
       "      <td>1</td>\n",
       "    </tr>\n",
       "  </tbody>\n",
       "</table>\n",
       "</div>"
      ],
      "text/plain": [
       "   Pregnancies  Glucose  BloodPressure  SkinThickness  Insulin    BMI  DiabetesPedigreeFunction  Age  Outcome\n",
       "0            6      148             72             35        0 33.600                     0.627   50        1\n",
       "1            1       85             66             29        0 26.600                     0.351   31        0\n",
       "2            8      183             64              0        0 23.300                     0.672   32        1\n",
       "3            1       89             66             23       94 28.100                     0.167   21        0\n",
       "4            0      137             40             35      168 43.100                     2.288   33        1"
      ]
     },
     "execution_count": 5,
     "metadata": {},
     "output_type": "execute_result"
    }
   ],
   "source": [
    "df.head()"
   ]
  },
  {
   "cell_type": "markdown",
   "id": "8358674b-5373-44fb-add4-4a1b0133bb60",
   "metadata": {},
   "source": [
    "# Print the last five rows of the dataframe"
   ]
  },
  {
   "cell_type": "code",
   "execution_count": 6,
   "id": "0e820a9f-bb3c-463f-95b0-590601c95ea7",
   "metadata": {},
   "outputs": [
    {
     "data": {
      "text/html": [
       "<div>\n",
       "<style scoped>\n",
       "    .dataframe tbody tr th:only-of-type {\n",
       "        vertical-align: middle;\n",
       "    }\n",
       "\n",
       "    .dataframe tbody tr th {\n",
       "        vertical-align: top;\n",
       "    }\n",
       "\n",
       "    .dataframe thead th {\n",
       "        text-align: right;\n",
       "    }\n",
       "</style>\n",
       "<table border=\"1\" class=\"dataframe\">\n",
       "  <thead>\n",
       "    <tr style=\"text-align: right;\">\n",
       "      <th></th>\n",
       "      <th>Pregnancies</th>\n",
       "      <th>Glucose</th>\n",
       "      <th>BloodPressure</th>\n",
       "      <th>SkinThickness</th>\n",
       "      <th>Insulin</th>\n",
       "      <th>BMI</th>\n",
       "      <th>DiabetesPedigreeFunction</th>\n",
       "      <th>Age</th>\n",
       "      <th>Outcome</th>\n",
       "    </tr>\n",
       "  </thead>\n",
       "  <tbody>\n",
       "    <tr>\n",
       "      <th>763</th>\n",
       "      <td>10</td>\n",
       "      <td>101</td>\n",
       "      <td>76</td>\n",
       "      <td>48</td>\n",
       "      <td>180</td>\n",
       "      <td>32.900</td>\n",
       "      <td>0.171</td>\n",
       "      <td>63</td>\n",
       "      <td>0</td>\n",
       "    </tr>\n",
       "    <tr>\n",
       "      <th>764</th>\n",
       "      <td>2</td>\n",
       "      <td>122</td>\n",
       "      <td>70</td>\n",
       "      <td>27</td>\n",
       "      <td>0</td>\n",
       "      <td>36.800</td>\n",
       "      <td>0.340</td>\n",
       "      <td>27</td>\n",
       "      <td>0</td>\n",
       "    </tr>\n",
       "    <tr>\n",
       "      <th>765</th>\n",
       "      <td>5</td>\n",
       "      <td>121</td>\n",
       "      <td>72</td>\n",
       "      <td>23</td>\n",
       "      <td>112</td>\n",
       "      <td>26.200</td>\n",
       "      <td>0.245</td>\n",
       "      <td>30</td>\n",
       "      <td>0</td>\n",
       "    </tr>\n",
       "    <tr>\n",
       "      <th>766</th>\n",
       "      <td>1</td>\n",
       "      <td>126</td>\n",
       "      <td>60</td>\n",
       "      <td>0</td>\n",
       "      <td>0</td>\n",
       "      <td>30.100</td>\n",
       "      <td>0.349</td>\n",
       "      <td>47</td>\n",
       "      <td>1</td>\n",
       "    </tr>\n",
       "    <tr>\n",
       "      <th>767</th>\n",
       "      <td>1</td>\n",
       "      <td>93</td>\n",
       "      <td>70</td>\n",
       "      <td>31</td>\n",
       "      <td>0</td>\n",
       "      <td>30.400</td>\n",
       "      <td>0.315</td>\n",
       "      <td>23</td>\n",
       "      <td>0</td>\n",
       "    </tr>\n",
       "  </tbody>\n",
       "</table>\n",
       "</div>"
      ],
      "text/plain": [
       "     Pregnancies  Glucose  BloodPressure  SkinThickness  Insulin    BMI  DiabetesPedigreeFunction  Age  Outcome\n",
       "763           10      101             76             48      180 32.900                     0.171   63        0\n",
       "764            2      122             70             27        0 36.800                     0.340   27        0\n",
       "765            5      121             72             23      112 26.200                     0.245   30        0\n",
       "766            1      126             60              0        0 30.100                     0.349   47        1\n",
       "767            1       93             70             31        0 30.400                     0.315   23        0"
      ]
     },
     "execution_count": 6,
     "metadata": {},
     "output_type": "execute_result"
    }
   ],
   "source": [
    "df.tail()"
   ]
  },
  {
   "cell_type": "markdown",
   "id": "5efdc814-91d3-4572-83c9-c12ce44094fe",
   "metadata": {},
   "source": [
    "# Print the number of rows and columns in the dataframe"
   ]
  },
  {
   "cell_type": "code",
   "execution_count": 7,
   "id": "fb3dc918-1ebb-4139-b770-d5bb4894c365",
   "metadata": {},
   "outputs": [
    {
     "data": {
      "text/plain": [
       "(768, 9)"
      ]
     },
     "execution_count": 7,
     "metadata": {},
     "output_type": "execute_result"
    }
   ],
   "source": [
    "df.shape"
   ]
  },
  {
   "cell_type": "code",
   "execution_count": 8,
   "id": "b6e5c006-fb13-48ee-b948-dafccdabf994",
   "metadata": {},
   "outputs": [
    {
     "data": {
      "text/plain": [
       "Pregnancies                   int64\n",
       "Glucose                       int64\n",
       "BloodPressure                 int64\n",
       "SkinThickness                 int64\n",
       "Insulin                       int64\n",
       "BMI                         float64\n",
       "DiabetesPedigreeFunction    float64\n",
       "Age                           int64\n",
       "Outcome                       int64\n",
       "dtype: object"
      ]
     },
     "execution_count": 8,
     "metadata": {},
     "output_type": "execute_result"
    }
   ],
   "source": [
    "df.dtypes"
   ]
  },
  {
   "cell_type": "code",
   "execution_count": 9,
   "id": "de66ad8a-c6d8-44d1-bd31-b44778bba07c",
   "metadata": {},
   "outputs": [
    {
     "name": "stdout",
     "output_type": "stream",
     "text": [
      "<class 'pandas.core.frame.DataFrame'>\n",
      "RangeIndex: 768 entries, 0 to 767\n",
      "Data columns (total 9 columns):\n",
      " #   Column                    Non-Null Count  Dtype  \n",
      "---  ------                    --------------  -----  \n",
      " 0   Pregnancies               768 non-null    int64  \n",
      " 1   Glucose                   768 non-null    int64  \n",
      " 2   BloodPressure             768 non-null    int64  \n",
      " 3   SkinThickness             768 non-null    int64  \n",
      " 4   Insulin                   768 non-null    int64  \n",
      " 5   BMI                       768 non-null    float64\n",
      " 6   DiabetesPedigreeFunction  768 non-null    float64\n",
      " 7   Age                       768 non-null    int64  \n",
      " 8   Outcome                   768 non-null    int64  \n",
      "dtypes: float64(2), int64(7)\n",
      "memory usage: 54.1 KB\n"
     ]
    }
   ],
   "source": [
    "df.info()"
   ]
  },
  {
   "cell_type": "code",
   "execution_count": 10,
   "id": "d13b7fb1-f5cd-49cf-9657-5392bce0390d",
   "metadata": {},
   "outputs": [
    {
     "name": "stdout",
     "output_type": "stream",
     "text": [
      "Outcome\n",
      "0    500\n",
      "1    268\n",
      "Name: count, dtype: int64\n",
      "Outcome\n",
      "0   65.104\n",
      "1   34.896\n",
      "Name: count, dtype: float64\n"
     ]
    }
   ],
   "source": [
    "print(df[\"Outcome\"].value_counts())\n",
    "print(100*df[\"Outcome\"].value_counts()/len(df))"
   ]
  },
  {
   "cell_type": "code",
   "execution_count": 11,
   "id": "eade9f60-8a27-4ae2-8f5c-1f6fcd29b02a",
   "metadata": {},
   "outputs": [
    {
     "name": "stdout",
     "output_type": "stream",
     "text": [
      "                           count    mean     std    min    25%     50%     75%     max\n",
      "Pregnancies              768.000   3.845   3.370  0.000  1.000   3.000   6.000  17.000\n",
      "Glucose                  768.000 120.895  31.973  0.000 99.000 117.000 140.250 199.000\n",
      "BloodPressure            768.000  69.105  19.356  0.000 62.000  72.000  80.000 122.000\n",
      "SkinThickness            768.000  20.536  15.952  0.000  0.000  23.000  32.000  99.000\n",
      "Insulin                  768.000  79.799 115.244  0.000  0.000  30.500 127.250 846.000\n",
      "BMI                      768.000  31.993   7.884  0.000 27.300  32.000  36.600  67.100\n",
      "DiabetesPedigreeFunction 768.000   0.472   0.331  0.078  0.244   0.372   0.626   2.420\n",
      "Age                      768.000  33.241  11.760 21.000 24.000  29.000  41.000  81.000\n",
      "Outcome                  768.000   0.349   0.477  0.000  0.000   0.000   1.000   1.000\n"
     ]
    }
   ],
   "source": [
    "print(df.describe().T)"
   ]
  },
  {
   "cell_type": "code",
   "execution_count": 12,
   "id": "241110a4-4a17-474b-849e-5fc2eea3ae1d",
   "metadata": {},
   "outputs": [
    {
     "data": {
      "image/png": "[encoded data removed]",
      "text/plain": [
       "<Figure size 640x480 with 1 Axes>"
      ]
     },
     "metadata": {},
     "output_type": "display_data"
    }
   ],
   "source": [
    "sns.countplot(x=\"Outcome\",data=df)\n",
    "plt.show()\n"
   ]
  },
  {
   "cell_type": "code",
   "execution_count": 13,
   "id": "506c5eaa-1ef7-44bb-8d96-cc387788ce3b",
   "metadata": {},
   "outputs": [],
   "source": [
    "def plot_numerical_col(dataframe, numerical_col):\n",
    "    dataframe[numerical_col].hist(bins=20)\n",
    "    plt.xlabel(numerical_col)\n",
    "    plt.show(block=True)"
   ]
  },
  {
   "cell_type": "code",
   "execution_count": 14,
   "id": "5b779907-b6dd-4856-a39b-27a37774fb37",
   "metadata": {},
   "outputs": [
    {
     "data": {
      "image/png": "[encoded data removed]",
      "text/plain": [
       "<Figure size 640x480 with 1 Axes>"
      ]
     },
     "metadata": {},
     "output_type": "display_data"
    },
    {
     "data": {
      "image/png": "[encoded data removed]",
      "text/plain": [
       "<Figure size 640x480 with 1 Axes>"
      ]
     },
     "metadata": {},
     "output_type": "display_data"
    },
    {
     "data": {
      "image/png": "[encoded data removed]",
      "text/plain": [
       "<Figure size 640x480 with 1 Axes>"
      ]
     },
     "metadata": {},
     "output_type": "display_data"
    },
    {
     "data": {
      "image/png": "[encoded data removed]",
      "text/plain": [
       "<Figure size 640x480 with 1 Axes>"
      ]
     },
     "metadata": {},
     "output_type": "display_data"
    },
    {
     "data": {
      "image/png": "[encoded data removed]",
      "text/plain": [
       "<Figure size 640x480 with 1 Axes>"
      ]
     },
     "metadata": {},
     "output_type": "display_data"
    },
    {
     "data": {
      "image/png": "[encoded data removed]",
      "text/plain": [
       "<Figure size 640x480 with 1 Axes>"
      ]
     },
     "metadata": {},
     "output_type": "display_data"
    },
    {
     "data": {
      "image/png": "[encoded data removed]",
      "text/plain": [
       "<Figure size 640x480 with 1 Axes>"
      ]
     },
     "metadata": {},
     "output_type": "display_data"
    },
    {
     "data": {
      "image/png": "[encoded data removed]",
      "text/plain": [
       "<Figure size 640x480 with 1 Axes>"
      ]
     },
     "metadata": {},
     "output_type": "display_data"
    }
   ],
   "source": [
    "cols = [col for col in df.columns if \"Outcome\" not in col]\n",
    "\n",
    "for col in cols:\n",
    "    plot_numerical_col(df, col)"
   ]
  },
  {
   "cell_type": "markdown",
   "id": "ed56102c-fef1-4983-9273-558c62cdedc0",
   "metadata": {},
   "source": [
    "# Data Preprocessing Section"
   ]
  },
  {
   "cell_type": "code",
   "execution_count": 15,
   "id": "2d58c056-c43a-447c-b893-cb4ab712a238",
   "metadata": {},
   "outputs": [
    {
     "data": {
      "text/plain": [
       "Pregnancies                 0\n",
       "Glucose                     0\n",
       "BloodPressure               0\n",
       "SkinThickness               0\n",
       "Insulin                     0\n",
       "BMI                         0\n",
       "DiabetesPedigreeFunction    0\n",
       "Age                         0\n",
       "Outcome                     0\n",
       "dtype: int64"
      ]
     },
     "execution_count": 15,
     "metadata": {},
     "output_type": "execute_result"
    }
   ],
   "source": [
    "df.isna().sum()"
   ]
  },
  {
   "cell_type": "code",
   "execution_count": 16,
   "id": "b4ad23b1-aaf3-4dae-983b-d65748234cf3",
   "metadata": {},
   "outputs": [],
   "source": [
    "def oulier_thresholds(dataframe,col_name,q1=0.05,q3=0.95):\n",
    "     quartile1 = dataframe[col_name].quantile(q1)\n",
    "     quartile3 = dataframe[col_name].quantile(q3)\n",
    "     interquartile_range =  q3-q1\n",
    "     up_limit= quartile3+1.5*interquartile_range\n",
    "     low_limit=quartile1-1.5*interquartile_range\n",
    "     return low_limit,up_limit"
   ]
  },
  {
   "cell_type": "code",
   "execution_count": 17,
   "id": "a61d194d-5bf2-42ec-a03c-c8be7226a4e5",
   "metadata": {},
   "outputs": [],
   "source": [
    "def check_outlier(dataframe,col_name):\n",
    "    low_limit,up_limit=oulier_thresholds(dataframe,col_name)\n",
    "    if dataframe[(dataframe[col_name] > up_limit) | (dataframe[col_name] < low_limit)].any(axis=None):\n",
    "        return True\n",
    "    else:\n",
    "        return False"
   ]
  },
  {
   "cell_type": "code",
   "execution_count": 18,
   "id": "63e4751a-c16e-4d0b-9cc7-27780d4ecacb",
   "metadata": {},
   "outputs": [
    {
     "name": "stdout",
     "output_type": "stream",
     "text": [
      "Pregnancies True\n",
      "Glucose True\n",
      "BloodPressure True\n",
      "SkinThickness True\n",
      "Insulin True\n",
      "BMI True\n",
      "DiabetesPedigreeFunction False\n",
      "Age True\n"
     ]
    }
   ],
   "source": [
    "for col in cols:\n",
    "    print(col,check_outlier(df,col))"
   ]
  },
  {
   "cell_type": "code",
   "execution_count": 19,
   "id": "c40e36bc-f8d8-48f5-b4a3-06853d412262",
   "metadata": {},
   "outputs": [],
   "source": [
    "def outlier_thresholds(dataframe, col_name, q1=0.05, q3=0.95):\n",
    "\n",
    "    quartile1 = dataframe[col_name].quantile(q1)\n",
    "    quartile3 = dataframe[col_name].quantile(q3)\n",
    "    interquantile_range = quartile3 - quartile1\n",
    "    up_limit = quartile3 + 1.5 * interquantile_range\n",
    "    low_limit = quartile1 - 1.5 * interquantile_range\n",
    "    return low_limit, up_limit"
   ]
  },
  {
   "cell_type": "code",
   "execution_count": 20,
   "id": "a667201a-77c9-42a1-b423-42128e86420a",
   "metadata": {},
   "outputs": [],
   "source": [
    "def check_outlier(dataframe, col_name):\n",
    "\n",
    "    low_limit, up_limit = outlier_thresholds(dataframe, col_name)\n",
    "    if dataframe[(dataframe[col_name] > up_limit) | (dataframe[col_name] < low_limit)].any(axis=None):\n",
    "        return True\n",
    "    else:\n",
    "        return False"
   ]
  },
  {
   "cell_type": "code",
   "execution_count": 21,
   "id": "5936e176-76fe-4dd8-86b2-d42cc74e4b96",
   "metadata": {},
   "outputs": [
    {
     "name": "stdout",
     "output_type": "stream",
     "text": [
      "Pregnancies False\n",
      "Glucose False\n",
      "BloodPressure False\n",
      "SkinThickness False\n",
      "Insulin True\n",
      "BMI False\n",
      "DiabetesPedigreeFunction False\n",
      "Age False\n"
     ]
    }
   ],
   "source": [
    "for col in cols:\n",
    "    # Look for every column\n",
    "    print(col, check_outlier(df, col))\n"
   ]
  },
  {
   "cell_type": "code",
   "execution_count": 22,
   "id": "273d1f12-1e4f-4c39-bd5f-b7ae5633c988",
   "metadata": {},
   "outputs": [],
   "source": [
    "for col in cols:\n",
    "    df[col] = RobustScaler().fit_transform(df[[col]])"
   ]
  },
  {
   "cell_type": "markdown",
   "id": "e89e14d4-3556-4248-b9eb-b53951a409b7",
   "metadata": {},
   "source": [
    "# Data preparation"
   ]
  },
  {
   "cell_type": "code",
   "execution_count": 24,
   "id": "dd820e7a-94e0-4b72-af15-eb1402d2dd41",
   "metadata": {},
   "outputs": [
    {
     "data": {
      "text/html": [
       "<div>\n",
       "<style scoped>\n",
       "    .dataframe tbody tr th:only-of-type {\n",
       "        vertical-align: middle;\n",
       "    }\n",
       "\n",
       "    .dataframe tbody tr th {\n",
       "        vertical-align: top;\n",
       "    }\n",
       "\n",
       "    .dataframe thead th {\n",
       "        text-align: right;\n",
       "    }\n",
       "</style>\n",
       "<table border=\"1\" class=\"dataframe\">\n",
       "  <thead>\n",
       "    <tr style=\"text-align: right;\">\n",
       "      <th></th>\n",
       "      <th>Pregnancies</th>\n",
       "      <th>Glucose</th>\n",
       "      <th>BloodPressure</th>\n",
       "      <th>SkinThickness</th>\n",
       "      <th>Insulin</th>\n",
       "      <th>BMI</th>\n",
       "      <th>DiabetesPedigreeFunction</th>\n",
       "      <th>Age</th>\n",
       "      <th>Outcome</th>\n",
       "    </tr>\n",
       "  </thead>\n",
       "  <tbody>\n",
       "    <tr>\n",
       "      <th>0</th>\n",
       "      <td>0.600</td>\n",
       "      <td>0.752</td>\n",
       "      <td>0.000</td>\n",
       "      <td>0.375</td>\n",
       "      <td>-0.240</td>\n",
       "      <td>0.172</td>\n",
       "      <td>0.665</td>\n",
       "      <td>1.235</td>\n",
       "      <td>1</td>\n",
       "    </tr>\n",
       "    <tr>\n",
       "      <th>1</th>\n",
       "      <td>-0.400</td>\n",
       "      <td>-0.776</td>\n",
       "      <td>-0.333</td>\n",
       "      <td>0.188</td>\n",
       "      <td>-0.240</td>\n",
       "      <td>-0.581</td>\n",
       "      <td>-0.056</td>\n",
       "      <td>0.118</td>\n",
       "      <td>0</td>\n",
       "    </tr>\n",
       "    <tr>\n",
       "      <th>2</th>\n",
       "      <td>1.000</td>\n",
       "      <td>1.600</td>\n",
       "      <td>-0.444</td>\n",
       "      <td>-0.719</td>\n",
       "      <td>-0.240</td>\n",
       "      <td>-0.935</td>\n",
       "      <td>0.783</td>\n",
       "      <td>0.176</td>\n",
       "      <td>1</td>\n",
       "    </tr>\n",
       "    <tr>\n",
       "      <th>3</th>\n",
       "      <td>-0.400</td>\n",
       "      <td>-0.679</td>\n",
       "      <td>-0.333</td>\n",
       "      <td>0.000</td>\n",
       "      <td>0.499</td>\n",
       "      <td>-0.419</td>\n",
       "      <td>-0.537</td>\n",
       "      <td>-0.471</td>\n",
       "      <td>0</td>\n",
       "    </tr>\n",
       "    <tr>\n",
       "      <th>4</th>\n",
       "      <td>-0.600</td>\n",
       "      <td>0.485</td>\n",
       "      <td>-1.778</td>\n",
       "      <td>0.375</td>\n",
       "      <td>1.081</td>\n",
       "      <td>1.194</td>\n",
       "      <td>5.008</td>\n",
       "      <td>0.235</td>\n",
       "      <td>1</td>\n",
       "    </tr>\n",
       "    <tr>\n",
       "      <th>5</th>\n",
       "      <td>0.400</td>\n",
       "      <td>-0.024</td>\n",
       "      <td>0.111</td>\n",
       "      <td>-0.719</td>\n",
       "      <td>-0.240</td>\n",
       "      <td>-0.688</td>\n",
       "      <td>-0.448</td>\n",
       "      <td>0.059</td>\n",
       "      <td>0</td>\n",
       "    </tr>\n",
       "    <tr>\n",
       "      <th>6</th>\n",
       "      <td>0.000</td>\n",
       "      <td>-0.945</td>\n",
       "      <td>-1.222</td>\n",
       "      <td>0.281</td>\n",
       "      <td>0.452</td>\n",
       "      <td>-0.108</td>\n",
       "      <td>-0.325</td>\n",
       "      <td>-0.176</td>\n",
       "      <td>1</td>\n",
       "    </tr>\n",
       "    <tr>\n",
       "      <th>7</th>\n",
       "      <td>1.400</td>\n",
       "      <td>-0.048</td>\n",
       "      <td>-4.000</td>\n",
       "      <td>-0.719</td>\n",
       "      <td>-0.240</td>\n",
       "      <td>0.355</td>\n",
       "      <td>-0.624</td>\n",
       "      <td>0.000</td>\n",
       "      <td>0</td>\n",
       "    </tr>\n",
       "    <tr>\n",
       "      <th>8</th>\n",
       "      <td>-0.200</td>\n",
       "      <td>1.939</td>\n",
       "      <td>-0.111</td>\n",
       "      <td>0.688</td>\n",
       "      <td>4.028</td>\n",
       "      <td>-0.161</td>\n",
       "      <td>-0.561</td>\n",
       "      <td>1.412</td>\n",
       "      <td>1</td>\n",
       "    </tr>\n",
       "    <tr>\n",
       "      <th>9</th>\n",
       "      <td>1.000</td>\n",
       "      <td>0.194</td>\n",
       "      <td>1.333</td>\n",
       "      <td>-0.719</td>\n",
       "      <td>-0.240</td>\n",
       "      <td>-3.441</td>\n",
       "      <td>-0.367</td>\n",
       "      <td>1.471</td>\n",
       "      <td>1</td>\n",
       "    </tr>\n",
       "    <tr>\n",
       "      <th>10</th>\n",
       "      <td>0.200</td>\n",
       "      <td>-0.170</td>\n",
       "      <td>1.111</td>\n",
       "      <td>-0.719</td>\n",
       "      <td>-0.240</td>\n",
       "      <td>0.602</td>\n",
       "      <td>-0.475</td>\n",
       "      <td>0.059</td>\n",
       "      <td>0</td>\n",
       "    </tr>\n",
       "    <tr>\n",
       "      <th>11</th>\n",
       "      <td>1.400</td>\n",
       "      <td>1.236</td>\n",
       "      <td>0.111</td>\n",
       "      <td>-0.719</td>\n",
       "      <td>-0.240</td>\n",
       "      <td>0.645</td>\n",
       "      <td>0.430</td>\n",
       "      <td>0.294</td>\n",
       "      <td>1</td>\n",
       "    </tr>\n",
       "    <tr>\n",
       "      <th>12</th>\n",
       "      <td>1.400</td>\n",
       "      <td>0.533</td>\n",
       "      <td>0.444</td>\n",
       "      <td>-0.719</td>\n",
       "      <td>-0.240</td>\n",
       "      <td>-0.527</td>\n",
       "      <td>2.793</td>\n",
       "      <td>1.647</td>\n",
       "      <td>0</td>\n",
       "    </tr>\n",
       "    <tr>\n",
       "      <th>13</th>\n",
       "      <td>-0.400</td>\n",
       "      <td>1.745</td>\n",
       "      <td>-0.667</td>\n",
       "      <td>0.000</td>\n",
       "      <td>6.409</td>\n",
       "      <td>-0.204</td>\n",
       "      <td>0.067</td>\n",
       "      <td>1.765</td>\n",
       "      <td>1</td>\n",
       "    </tr>\n",
       "    <tr>\n",
       "      <th>14</th>\n",
       "      <td>0.400</td>\n",
       "      <td>1.188</td>\n",
       "      <td>0.000</td>\n",
       "      <td>-0.125</td>\n",
       "      <td>1.136</td>\n",
       "      <td>-0.667</td>\n",
       "      <td>0.561</td>\n",
       "      <td>1.294</td>\n",
       "      <td>1</td>\n",
       "    </tr>\n",
       "    <tr>\n",
       "      <th>15</th>\n",
       "      <td>0.800</td>\n",
       "      <td>-0.412</td>\n",
       "      <td>-4.000</td>\n",
       "      <td>-0.719</td>\n",
       "      <td>-0.240</td>\n",
       "      <td>-0.215</td>\n",
       "      <td>0.292</td>\n",
       "      <td>0.176</td>\n",
       "      <td>1</td>\n",
       "    </tr>\n",
       "    <tr>\n",
       "      <th>16</th>\n",
       "      <td>-0.600</td>\n",
       "      <td>0.024</td>\n",
       "      <td>0.667</td>\n",
       "      <td>0.750</td>\n",
       "      <td>1.568</td>\n",
       "      <td>1.484</td>\n",
       "      <td>0.467</td>\n",
       "      <td>0.118</td>\n",
       "      <td>1</td>\n",
       "    </tr>\n",
       "    <tr>\n",
       "      <th>17</th>\n",
       "      <td>0.800</td>\n",
       "      <td>-0.242</td>\n",
       "      <td>0.111</td>\n",
       "      <td>-0.719</td>\n",
       "      <td>-0.240</td>\n",
       "      <td>-0.258</td>\n",
       "      <td>-0.310</td>\n",
       "      <td>0.118</td>\n",
       "      <td>1</td>\n",
       "    </tr>\n",
       "    <tr>\n",
       "      <th>18</th>\n",
       "      <td>-0.400</td>\n",
       "      <td>-0.339</td>\n",
       "      <td>-2.333</td>\n",
       "      <td>0.469</td>\n",
       "      <td>0.413</td>\n",
       "      <td>1.215</td>\n",
       "      <td>-0.495</td>\n",
       "      <td>0.235</td>\n",
       "      <td>0</td>\n",
       "    </tr>\n",
       "    <tr>\n",
       "      <th>19</th>\n",
       "      <td>-0.400</td>\n",
       "      <td>-0.048</td>\n",
       "      <td>-0.111</td>\n",
       "      <td>0.219</td>\n",
       "      <td>0.515</td>\n",
       "      <td>0.280</td>\n",
       "      <td>0.409</td>\n",
       "      <td>0.176</td>\n",
       "      <td>1</td>\n",
       "    </tr>\n",
       "  </tbody>\n",
       "</table>\n",
       "</div>"
      ],
      "text/plain": [
       "    Pregnancies  Glucose  BloodPressure  SkinThickness  Insulin    BMI  DiabetesPedigreeFunction    Age  Outcome\n",
       "0         0.600    0.752          0.000          0.375   -0.240  0.172                     0.665  1.235        1\n",
       "1        -0.400   -0.776         -0.333          0.188   -0.240 -0.581                    -0.056  0.118        0\n",
       "2         1.000    1.600         -0.444         -0.719   -0.240 -0.935                     0.783  0.176        1\n",
       "3        -0.400   -0.679         -0.333          0.000    0.499 -0.419                    -0.537 -0.471        0\n",
       "4        -0.600    0.485         -1.778          0.375    1.081  1.194                     5.008  0.235        1\n",
       "5         0.400   -0.024          0.111         -0.719   -0.240 -0.688                    -0.448  0.059        0\n",
       "6         0.000   -0.945         -1.222          0.281    0.452 -0.108                    -0.325 -0.176        1\n",
       "7         1.400   -0.048         -4.000         -0.719   -0.240  0.355                    -0.624  0.000        0\n",
       "8        -0.200    1.939         -0.111          0.688    4.028 -0.161                    -0.561  1.412        1\n",
       "9         1.000    0.194          1.333         -0.719   -0.240 -3.441                    -0.367  1.471        1\n",
       "10        0.200   -0.170          1.111         -0.719   -0.240  0.602                    -0.475  0.059        0\n",
       "11        1.400    1.236          0.111         -0.719   -0.240  0.645                     0.430  0.294        1\n",
       "12        1.400    0.533          0.444         -0.719   -0.240 -0.527                     2.793  1.647        0\n",
       "13       -0.400    1.745         -0.667          0.000    6.409 -0.204                     0.067  1.765        1\n",
       "14        0.400    1.188          0.000         -0.125    1.136 -0.667                     0.561  1.294        1\n",
       "15        0.800   -0.412         -4.000         -0.719   -0.240 -0.215                     0.292  0.176        1\n",
       "16       -0.600    0.024          0.667          0.750    1.568  1.484                     0.467  0.118        1\n",
       "17        0.800   -0.242          0.111         -0.719   -0.240 -0.258                    -0.310  0.118        1\n",
       "18       -0.400   -0.339         -2.333          0.469    0.413  1.215                    -0.495  0.235        0\n",
       "19       -0.400   -0.048         -0.111          0.219    0.515  0.280                     0.409  0.176        1"
      ]
     },
     "execution_count": 24,
     "metadata": {},
     "output_type": "execute_result"
    }
   ],
   "source": [
    "df.head(20)"
   ]
  },
  {
   "cell_type": "markdown",
   "id": "3e662cb3-57d6-42fc-97b2-68f7d84ad0f5",
   "metadata": {},
   "source": [
    "# Model Selection and Prediction Section"
   ]
  },
  {
   "cell_type": "code",
   "execution_count": 25,
   "id": "4a505d1b-761c-49ea-98b5-3fec03d43370",
   "metadata": {},
   "outputs": [],
   "source": [
    "X = df.drop([\"Outcome\"], axis=1)\n",
    "y = df[\"Outcome\"]"
   ]
  },
  {
   "cell_type": "code",
   "execution_count": 26,
   "id": "6814d42f-8565-4b9a-8e96-476f3f44aa22",
   "metadata": {},
   "outputs": [
    {
     "data": {
      "text/html": [
       "<div>\n",
       "<style scoped>\n",
       "    .dataframe tbody tr th:only-of-type {\n",
       "        vertical-align: middle;\n",
       "    }\n",
       "\n",
       "    .dataframe tbody tr th {\n",
       "        vertical-align: top;\n",
       "    }\n",
       "\n",
       "    .dataframe thead th {\n",
       "        text-align: right;\n",
       "    }\n",
       "</style>\n",
       "<table border=\"1\" class=\"dataframe\">\n",
       "  <thead>\n",
       "    <tr style=\"text-align: right;\">\n",
       "      <th></th>\n",
       "      <th>Pregnancies</th>\n",
       "      <th>Glucose</th>\n",
       "      <th>BloodPressure</th>\n",
       "      <th>SkinThickness</th>\n",
       "      <th>Insulin</th>\n",
       "      <th>BMI</th>\n",
       "      <th>DiabetesPedigreeFunction</th>\n",
       "      <th>Age</th>\n",
       "    </tr>\n",
       "  </thead>\n",
       "  <tbody>\n",
       "    <tr>\n",
       "      <th>0</th>\n",
       "      <td>0.600</td>\n",
       "      <td>0.752</td>\n",
       "      <td>0.000</td>\n",
       "      <td>0.375</td>\n",
       "      <td>-0.240</td>\n",
       "      <td>0.172</td>\n",
       "      <td>0.665</td>\n",
       "      <td>1.235</td>\n",
       "    </tr>\n",
       "    <tr>\n",
       "      <th>1</th>\n",
       "      <td>-0.400</td>\n",
       "      <td>-0.776</td>\n",
       "      <td>-0.333</td>\n",
       "      <td>0.188</td>\n",
       "      <td>-0.240</td>\n",
       "      <td>-0.581</td>\n",
       "      <td>-0.056</td>\n",
       "      <td>0.118</td>\n",
       "    </tr>\n",
       "    <tr>\n",
       "      <th>2</th>\n",
       "      <td>1.000</td>\n",
       "      <td>1.600</td>\n",
       "      <td>-0.444</td>\n",
       "      <td>-0.719</td>\n",
       "      <td>-0.240</td>\n",
       "      <td>-0.935</td>\n",
       "      <td>0.783</td>\n",
       "      <td>0.176</td>\n",
       "    </tr>\n",
       "    <tr>\n",
       "      <th>3</th>\n",
       "      <td>-0.400</td>\n",
       "      <td>-0.679</td>\n",
       "      <td>-0.333</td>\n",
       "      <td>0.000</td>\n",
       "      <td>0.499</td>\n",
       "      <td>-0.419</td>\n",
       "      <td>-0.537</td>\n",
       "      <td>-0.471</td>\n",
       "    </tr>\n",
       "    <tr>\n",
       "      <th>4</th>\n",
       "      <td>-0.600</td>\n",
       "      <td>0.485</td>\n",
       "      <td>-1.778</td>\n",
       "      <td>0.375</td>\n",
       "      <td>1.081</td>\n",
       "      <td>1.194</td>\n",
       "      <td>5.008</td>\n",
       "      <td>0.235</td>\n",
       "    </tr>\n",
       "  </tbody>\n",
       "</table>\n",
       "</div>"
      ],
      "text/plain": [
       "   Pregnancies  Glucose  BloodPressure  SkinThickness  Insulin    BMI  DiabetesPedigreeFunction    Age\n",
       "0        0.600    0.752          0.000          0.375   -0.240  0.172                     0.665  1.235\n",
       "1       -0.400   -0.776         -0.333          0.188   -0.240 -0.581                    -0.056  0.118\n",
       "2        1.000    1.600         -0.444         -0.719   -0.240 -0.935                     0.783  0.176\n",
       "3       -0.400   -0.679         -0.333          0.000    0.499 -0.419                    -0.537 -0.471\n",
       "4       -0.600    0.485         -1.778          0.375    1.081  1.194                     5.008  0.235"
      ]
     },
     "execution_count": 26,
     "metadata": {},
     "output_type": "execute_result"
    }
   ],
   "source": [
    "X.head()"
   ]
  },
  {
   "cell_type": "code",
   "execution_count": 27,
   "id": "043d569c-74cd-476f-8252-03bf367f838e",
   "metadata": {},
   "outputs": [
    {
     "data": {
      "text/plain": [
       "0    1\n",
       "1    0\n",
       "2    1\n",
       "3    0\n",
       "4    1\n",
       "Name: Outcome, dtype: int64"
      ]
     },
     "execution_count": 27,
     "metadata": {},
     "output_type": "execute_result"
    }
   ],
   "source": [
    "y.head()"
   ]
  },
  {
   "cell_type": "markdown",
   "id": "e707b11b-4e23-4b40-b255-302f7e0a90d8",
   "metadata": {},
   "source": [
    "# Hyperparameter Optimization Section"
   ]
  },
  {
   "cell_type": "code",
   "execution_count": 28,
   "id": "fb97f9d8-08bf-4466-ab25-0e93f9db9263",
   "metadata": {},
   "outputs": [],
   "source": [
    "def ml_algorithms():\n",
    "    models=[\n",
    "                (\"CART\", DecisionTreeClassifier(random_state=42)),\n",
    "                (\"CatBoost\", CatBoostClassifier(random_state=42, verbose=False)),\n",
    "                (\"GBM\",GradientBoostingClassifier(random_state=42)),\n",
    "                (\"LightGBM\", LGBMClassifier(random_state=42, verbose=-1)),\n",
    "                (\"Random Forest\", RandomForestClassifier(random_state=42)),\n",
    "                (\"XGBoost\", XGBClassifier(random_state=42, use_label_encoder=False)),\n",
    "                (\"KNeighborsClassifier\",KNeighborsClassifier()),\n",
    "                (\"SVC\",SVC()),\n",
    "                (\"LogisticRegression\",LogisticRegression())\n",
    "]\n",
    "    return models\n",
    "    \n",
    "def hyper_param():\n",
    "    d_values={}\n",
    "\n",
    "    d_values[\"CART\"]={\n",
    "      \"criterion\":[\"gini\", \"entropy\",\"log_loss\"],\n",
    "      \"splitter\":[\"best\",\"random\"]\n",
    "  }\n",
    "    d_values[\"CatBoost\"]={\n",
    "     \"iterations\": [100, 200],\n",
    "     \"learning_rate\": [0.01, 0.1],\n",
    "     \"depth\": [2, 3, 8]\n",
    "}\n",
    "\n",
    "    d_values[\"GBM\"]={\n",
    "      \"loss\":[\"log_loss\", \"exponential\"],\n",
    "      \"n_estimators\":[50,100,150]\n",
    "  }\n",
    "    d_values[\"LightGBM\"]={\n",
    "      \"boosting_type\":[\"str\", \"gbdt\"],\n",
    "      \"n_estimators\":[50,100,150]\n",
    "  }\n",
    "    d_values[\"Random Forest\"]={\n",
    "      \"n_estimators\":[40,60,80,100],\n",
    "      \"criterion\":[\"gini\", \"entropy\",\"log_loss\"]\n",
    "\n",
    "  }\n",
    "    d_values[\"XGBoost\"]={\n",
    "    \"booster\":[\"gbtree\",\"dart\"],\n",
    "        \"dart_normalized_type\":[\"tree\",\"forest\"]\n",
    "\n",
    "  }\n",
    "    d_values[\"KNeighborsClassifier\"]={\n",
    "      \"n_neighbors\":[5,6,7,8],\n",
    "      \"algorithm\":[\"auto\",\"ball_tree\",\"kd_tree\",\"brute’\"],\n",
    "\n",
    "}\n",
    "    d_values[\"SVC\"]={\n",
    "      \"kernel\":[\"rbf\",\"linear\"],\n",
    "      \"C\":[10,20,30,40]\n",
    "  }\n",
    "    d_values[\"LogisticRegression\"]={\n",
    "      'penalty':['l1', 'l2', 'elasticnet', None],\n",
    "      'solver':[\"lbfgs\",\"liblinear\",\"newton-cg\", \"newton-cholesky\",\"sag\", \"saga\"]\n",
    "  }\n",
    "\n",
    "\n",
    "\n",
    "    return d_values\n",
    "\n",
    "models=ml_algorithms()\n",
    "param_grids=hyper_param()"
   ]
  },
  {
   "cell_type": "code",
   "execution_count": 29,
   "id": "1dcbfa1c-8b21-403f-986f-2a3cfc7d451d",
   "metadata": {},
   "outputs": [
    {
     "name": "stdout",
     "output_type": "stream",
     "text": [
      "\n",
      "CART Accuracy score: 0.7018284347231716\n",
      "\n",
      "CART Precision score: 0.5765596458139561\n",
      "\n",
      "CatBoost Accuracy score: 0.76825017088175\n",
      "\n",
      "CatBoost Precision score: 0.7014398976982096\n",
      "\n",
      "GBM Accuracy score: 0.7604066985645933\n",
      "\n",
      "GBM Precision score: 0.6870570429071179\n",
      "\n",
      "LightGBM Accuracy score: 0.7487354750512646\n",
      "\n",
      "LightGBM Precision score: 0.6582283421162878\n",
      "\n",
      "Random Forest Accuracy score: 0.7577751196172249\n",
      "\n",
      "Random Forest Precision score: 0.6920056644610024\n",
      "\n",
      "XGBoost Accuracy score: 0.7434723171565276\n",
      "\n",
      "XGBoost Precision score: 0.6385130380486786\n",
      "\n",
      "KNeighborsClassifier Accuracy score: 0.7421907040328093\n",
      "\n",
      "KNeighborsClassifier Precision score: 0.6614805597452658\n",
      "\n",
      "SVC Accuracy score: 0.7617053998632947\n",
      "\n",
      "SVC Precision score: 0.7189456596035544\n",
      "\n",
      "LogisticRegression Accuracy score: 0.7721804511278195\n",
      "\n",
      "LogisticRegression Precision score: 0.7314932728090622\n"
     ]
    }
   ],
   "source": [
    "scoring_metrics = [\"accuracy\", \"precision\"]\n",
    "for model_name, model in models:\n",
    "    cv_results = {}\n",
    "    for metric in scoring_metrics:\n",
    "        cv_results[metric] = cross_validate(model, X, y, cv=10, scoring={metric: metric}, error_score='raise')\n",
    "        mean_score = cv_results[metric]['test_' + metric].mean()\n",
    "        print()\n",
    "        print(f\"{model_name} {metric.capitalize()} score: {mean_score}\")"
   ]
  },
  {
   "cell_type": "code",
   "execution_count": 30,
   "id": "8bbe8efb-d130-4d36-992b-302b5c59faaf",
   "metadata": {},
   "outputs": [
    {
     "name": "stdout",
     "output_type": "stream",
     "text": [
      "\n",
      "Name of the algorithm= CART\n",
      "Best Score of the model is    0.7018284347231716\n",
      "Best paraments for Best score is    {'criterion': 'gini', 'splitter': 'best'}\n",
      "\n",
      "\n",
      "Name of the algorithm= CatBoost\n",
      "Best Score of the model is    0.7656185919343814\n",
      "Best paraments for Best score is    {'depth': 8, 'iterations': 100, 'learning_rate': 0.1}\n",
      "\n",
      "\n",
      "Name of the algorithm= GBM\n",
      "Best Score of the model is    0.7630041011619959\n",
      "Best paraments for Best score is    {'loss': 'log_loss', 'n_estimators': 50}\n",
      "\n",
      "\n",
      "Name of the algorithm= LightGBM\n",
      "Best Score of the model is    0.7487354750512646\n",
      "Best paraments for Best score is    {'boosting_type': 'gbdt', 'n_estimators': 100}\n",
      "\n",
      "\n",
      "Name of the algorithm= Random Forest\n",
      "Best Score of the model is    0.7682159945317839\n",
      "Best paraments for Best score is    {'criterion': 'gini', 'n_estimators': 80}\n",
      "\n",
      "\n",
      "Name of the algorithm= XGBoost\n",
      "Best Score of the model is    0.7434723171565276\n",
      "Best paraments for Best score is    {'booster': 'gbtree', 'dart_normalized_type': 'tree'}\n",
      "\n",
      "\n",
      "Name of the algorithm= KNeighborsClassifier\n",
      "Best Score of the model is    0.7539302802460697\n",
      "Best paraments for Best score is    {'algorithm': 'auto', 'n_neighbors': 7}\n",
      "\n",
      "\n",
      "Name of the algorithm= SVC\n",
      "Best Score of the model is    0.7721633629528366\n",
      "Best paraments for Best score is    {'C': 10, 'kernel': 'linear'}\n",
      "\n",
      "\n",
      "Name of the algorithm= LogisticRegression\n",
      "Best Score of the model is    0.7734791524265209\n",
      "Best paraments for Best score is    {'penalty': 'l1', 'solver': 'liblinear'}\n",
      "\n"
     ]
    }
   ],
   "source": [
    "import warnings\n",
    "warnings.filterwarnings('ignore')\n",
    "results=[]\n",
    "\n",
    "for name,model in models:\n",
    "  clf=GridSearchCV(\n",
    "      estimator=model,\n",
    "      param_grid=param_grids[name],\n",
    "      cv=10,\n",
    "      return_train_score=False\n",
    "  )\n",
    "\n",
    "  clf.fit(X,y)\n",
    "  cv_result=pd.DataFrame(clf.cv_results_)\n",
    "  cv_result[\"model\"]=name\n",
    "  results.append(cv_result)\n",
    "  print()\n",
    "  print(\"Name of the algorithm=\",name)\n",
    "  print(\"Best Score of the model is   \",clf.best_score_)\n",
    "  print(\"Best paraments for Best score is   \",clf.best_params_)\n",
    "  print()\n",
    "\n",
    " \n",
    "\n",
    "\n"
   ]
  },
  {
   "cell_type": "code",
   "execution_count": 31,
   "id": "0f8ea0ac-dfc5-43dd-9555-58fd93c297a0",
   "metadata": {},
   "outputs": [
    {
     "name": "stdout",
     "output_type": "stream",
     "text": [
      "Fitting 3 folds for each of 24 candidates, totalling 72 fits\n"
     ]
    }
   ],
   "source": [
    " d={\n",
    "      'penalty':['l1', 'l2', 'elasticnet', None],\n",
    "      'solver':[\"lbfgs\",\"liblinear\",\"newton-cg\", \"newton-cholesky\",\"sag\", \"saga\"]\n",
    "  }\n",
    "\n",
    "logistic_reg=LogisticRegression()\n",
    "logistic_best_grid=GridSearchCV(logistic_reg, d, cv=3, n_jobs=-1, verbose=True).fit(X, y)"
   ]
  },
  {
   "cell_type": "code",
   "execution_count": 32,
   "id": "fc99f354-87fb-4997-b50f-df03a571b9e4",
   "metadata": {},
   "outputs": [
    {
     "name": "stdout",
     "output_type": "stream",
     "text": [
      "accuracy score:  0.7734791524265209\n"
     ]
    }
   ],
   "source": [
    "logistic_final = logistic_reg.set_params(**logistic_best_grid.best_params_, random_state=42).fit(X, y)\n",
    "\n",
    "cv_results = cross_validate(logistic_final, X, y, cv=10, scoring=[\"accuracy\"])\n",
    "print(\"accuracy score: \", cv_results[\"test_accuracy\"].mean())"
   ]
  },
  {
   "cell_type": "markdown",
   "id": "86811203-8850-4c7d-a154-12c5edd1749a",
   "metadata": {},
   "source": [
    "# Model Rating Section"
   ]
  },
  {
   "cell_type": "code",
   "execution_count": 33,
   "id": "3396fad5-2619-4cbe-9358-bb6ca497ed42",
   "metadata": {},
   "outputs": [
    {
     "name": "stdout",
     "output_type": "stream",
     "text": [
      "f1 score:  0.6327426108827118\n",
      "precision score:  0.7338174544753492\n",
      "recall score:  0.5596866096866095\n",
      "accuracy score:  0.7734791524265209\n",
      "roc_auc score:  0.8303817663817664\n"
     ]
    }
   ],
   "source": [
    "cv_results = cross_validate(logistic_final, X, y, cv=10, scoring=[\"accuracy\", \"f1\", \"roc_auc\", \"precision\", \"recall\"])\n",
    "print(\"f1 score: \", cv_results['test_f1'].mean())\n",
    "print(\"precision score: \", cv_results['test_precision'].mean())\n",
    "print(\"recall score: \", cv_results['test_recall'].mean())\n",
    "print(\"accuracy score: \", cv_results['test_accuracy'].mean())\n",
    "print(\"roc_auc score: \", cv_results['test_roc_auc'].mean())"
   ]
  },
  {
   "cell_type": "code",
   "execution_count": 34,
   "id": "7d7fc666-6a01-4794-ada7-c86825eb12dd",
   "metadata": {},
   "outputs": [
    {
     "data": {
      "image/png": "[encoded data removed]",
      "text/plain": [
       "<Figure size 640x480 with 2 Axes>"
      ]
     },
     "metadata": {},
     "output_type": "display_data"
    }
   ],
   "source": [
    "y_predict = logistic_final.predict(X)\n",
    "def plot_confucion_matrix(y, y_predict):\n",
    "    acc = round(accuracy_score(y,y_predict), 2)\n",
    "    cm = confusion_matrix(y, y_predict)\n",
    "    sns.heatmap(cm, annot=True, fmt=\".0f\", cmap = 'YlGnBu')\n",
    "    plt.xlabel('predicted values')\n",
    "    plt.ylabel('real values')\n",
    "    plt.title('Accuracy Score: {0}'.format(acc), size=10)\n",
    "    plt.show()\n",
    "plot_confucion_matrix(y, y_predict)"
   ]
  },
  {
   "cell_type": "code",
   "execution_count": 35,
   "id": "f94df67b-af50-4cae-bd67-96df8fa189b2",
   "metadata": {},
   "outputs": [
    {
     "name": "stdout",
     "output_type": "stream",
     "text": [
      "Mean Squared Error:  0.21614583333333334\n",
      "Mean Absolute Error:  0.21614583333333334\n",
      "Root Mean Squared Error :  0.46491486675877913\n"
     ]
    }
   ],
   "source": [
    "mse = mean_squared_error(y, y_predict)\n",
    "mae = mean_absolute_error(y, y_predict)\n",
    "rmse = np.sqrt(mse)\n",
    "\n",
    "print(\"Mean Squared Error: \", mse)\n",
    "print(\"Mean Absolute Error: \", mae)\n",
    "print(\"Root Mean Squared Error : \", rmse)"
   ]
  }
 ],
 "metadata": {
  "kernelspec": {
   "display_name": "Python 3 (ipykernel)",
   "language": "python",
   "name": "python3"
  },
  "language_info": {
   "codemirror_mode": {
    "name": "ipython",
    "version": 3
   },
   "file_extension": ".py",
   "mimetype": "text/x-python",
   "name": "python",
   "nbconvert_exporter": "python",
   "pygments_lexer": "ipython3",
   "version": "3.12.3"
  }
 },
 "nbformat": 4,
 "nbformat_minor": 5
}
